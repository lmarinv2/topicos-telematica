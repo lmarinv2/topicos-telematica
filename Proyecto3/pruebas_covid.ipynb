{
 "cells": [
  {
   "cell_type": "code",
   "execution_count": null,
   "id": "cab5591c-783b-4919-9750-bd5a97b36e12",
   "metadata": {
    "execution": {
     "iopub.execute_input": "2022-11-20T19:02:08.154781Z",
     "iopub.status.busy": "2022-11-20T19:02:08.154434Z",
     "iopub.status.idle": "2022-11-20T19:02:39.842900Z",
     "shell.execute_reply": "2022-11-20T19:02:39.841957Z",
     "shell.execute_reply.started": "2022-11-20T19:02:08.154739Z"
    },
    "tags": []
   },
   "outputs": [
    {
     "name": "stdout",
     "output_type": "stream",
     "text": [
      "Starting Spark application\n"
     ]
    },
    {
     "data": {
      "text/html": [
       "<table>\n",
       "<tr><th>ID</th><th>YARN Application ID</th><th>Kind</th><th>State</th><th>Spark UI</th><th>Driver log</th><th>Current session?</th></tr><tr><td>2</td><td>application_1668970072023_0003</td><td>spark</td><td>idle</td><td><a target=\"_blank\" href=\"http://ip-172-31-74-239.ec2.internal:20888/proxy/application_1668970072023_0003/\">Link</a></td><td><a target=\"_blank\" href=\"http://ip-172-31-67-44.ec2.internal:8042/node/containerlogs/container_1668970072023_0003_01_000001/livy\">Link</a></td><td>✔</td></tr></table>"
      ],
      "text/plain": [
       "<IPython.core.display.HTML object>"
      ]
     },
     "metadata": {},
     "output_type": "display_data"
    },
    {
     "data": {
      "application/vnd.jupyter.widget-view+json": {
       "model_id": "",
       "version_major": 2,
       "version_minor": 0
      },
      "text/plain": [
       "FloatProgress(value=0.0, bar_style='info', description='Progress:', layout=Layout(height='25px', width='50%'),…"
      ]
     },
     "metadata": {},
     "output_type": "display_data"
    },
    {
     "name": "stdout",
     "output_type": "stream",
     "text": [
      "SparkSession available as 'spark'.\n"
     ]
    },
    {
     "data": {
      "text/html": [
       "Current session configs: <tt>{'conf': {'spark.pyspark.python': 'python3', 'spark.pyspark.virtualenv.enabled': 'true', 'spark.pyspark.virtualenv.type': 'native', 'spark.pyspark.virtualenv.bin.path': '/usr/bin/virtualenv'}, 'kind': 'spark'}</tt><br>"
      ],
      "text/plain": [
       "<IPython.core.display.HTML object>"
      ]
     },
     "metadata": {},
     "output_type": "display_data"
    },
    {
     "data": {
      "text/html": [
       "<table>\n",
       "<tr><th>ID</th><th>YARN Application ID</th><th>Kind</th><th>State</th><th>Spark UI</th><th>Driver log</th><th>Current session?</th></tr><tr><td>0</td><td>application_1668970072023_0001</td><td>pyspark</td><td>idle</td><td><a target=\"_blank\" href=\"http://ip-172-31-74-239.ec2.internal:20888/proxy/application_1668970072023_0001/\">Link</a></td><td><a target=\"_blank\" href=\"http://ip-172-31-67-89.ec2.internal:8042/node/containerlogs/container_1668970072023_0001_01_000001/livy\">Link</a></td><td></td></tr><tr><td>2</td><td>application_1668970072023_0003</td><td>spark</td><td>idle</td><td><a target=\"_blank\" href=\"http://ip-172-31-74-239.ec2.internal:20888/proxy/application_1668970072023_0003/\">Link</a></td><td><a target=\"_blank\" href=\"http://ip-172-31-67-44.ec2.internal:8042/node/containerlogs/container_1668970072023_0003_01_000001/livy\">Link</a></td><td>✔</td></tr></table>"
      ],
      "text/plain": [
       "<IPython.core.display.HTML object>"
      ]
     },
     "metadata": {},
     "output_type": "display_data"
    }
   ],
   "source": [
    "%%configure -f\n",
    "{\n",
    "    \"conf\": {\n",
    "        \"spark.pyspark.python\": \"python3\",\n",
    "        \"spark.pyspark.virtualenv.enabled\": \"true\",\n",
    "        \"spark.pyspark.virtualenv.type\":\"native\",\n",
    "        \"spark.pyspark.virtualenv.bin.path\":\"/usr/bin/virtualenv\"\n",
    "    }\n",
    "}"
   ]
  },
  {
   "cell_type": "code",
   "execution_count": 8,
   "id": "884d8355-75e1-4888-834a-428793478c2f",
   "metadata": {
    "execution": {
     "iopub.execute_input": "2022-11-20T19:02:08.154781Z",
     "iopub.status.busy": "2022-11-20T19:02:08.154434Z",
     "iopub.status.idle": "2022-11-20T19:02:39.842900Z",
     "shell.execute_reply": "2022-11-20T19:02:39.841957Z",
     "shell.execute_reply.started": "2022-11-20T19:02:08.154739Z"
    },
    "tags": []
   },
   "outputs": [
    {
     "name": "stdout",
     "output_type": "stream",
     "text": [
      "Starting Spark application\n"
     ]
    },
    {
     "data": {
      "text/html": [
       "<table>\n",
       "<tr><th>ID</th><th>YARN Application ID</th><th>Kind</th><th>State</th><th>Spark UI</th><th>Driver log</th><th>Current session?</th></tr><tr><td>2</td><td>application_1668970072023_0003</td><td>spark</td><td>idle</td><td><a target=\"_blank\" href=\"http://ip-172-31-74-239.ec2.internal:20888/proxy/application_1668970072023_0003/\">Link</a></td><td><a target=\"_blank\" href=\"http://ip-172-31-67-44.ec2.internal:8042/node/containerlogs/container_1668970072023_0003_01_000001/livy\">Link</a></td><td>✔</td></tr></table>"
      ],
      "text/plain": [
       "<IPython.core.display.HTML object>"
      ]
     },
     "metadata": {},
     "output_type": "display_data"
    },
    {
     "data": {
      "application/vnd.jupyter.widget-view+json": {
       "model_id": "",
       "version_major": 2,
       "version_minor": 0
      },
      "text/plain": [
       "FloatProgress(value=0.0, bar_style='info', description='Progress:', layout=Layout(height='25px', width='50%'),…"
      ]
     },
     "metadata": {},
     "output_type": "display_data"
    },
    {
     "name": "stdout",
     "output_type": "stream",
     "text": [
      "SparkSession available as 'spark'.\n"
     ]
    },
    {
     "data": {
      "text/html": [
       "Current session configs: <tt>{'conf': {'spark.pyspark.python': 'python3', 'spark.pyspark.virtualenv.enabled': 'true', 'spark.pyspark.virtualenv.type': 'native', 'spark.pyspark.virtualenv.bin.path': '/usr/bin/virtualenv'}, 'kind': 'spark'}</tt><br>"
      ],
      "text/plain": [
       "<IPython.core.display.HTML object>"
      ]
     },
     "metadata": {},
     "output_type": "display_data"
    },
    {
     "data": {
      "text/html": [
       "<table>\n",
       "<tr><th>ID</th><th>YARN Application ID</th><th>Kind</th><th>State</th><th>Spark UI</th><th>Driver log</th><th>Current session?</th></tr><tr><td>0</td><td>application_1668970072023_0001</td><td>pyspark</td><td>idle</td><td><a target=\"_blank\" href=\"http://ip-172-31-74-239.ec2.internal:20888/proxy/application_1668970072023_0001/\">Link</a></td><td><a target=\"_blank\" href=\"http://ip-172-31-67-89.ec2.internal:8042/node/containerlogs/container_1668970072023_0001_01_000001/livy\">Link</a></td><td></td></tr><tr><td>2</td><td>application_1668970072023_0003</td><td>spark</td><td>idle</td><td><a target=\"_blank\" href=\"http://ip-172-31-74-239.ec2.internal:20888/proxy/application_1668970072023_0003/\">Link</a></td><td><a target=\"_blank\" href=\"http://ip-172-31-67-44.ec2.internal:8042/node/containerlogs/container_1668970072023_0003_01_000001/livy\">Link</a></td><td>✔</td></tr></table>"
      ],
      "text/plain": [
       "<IPython.core.display.HTML object>"
      ]
     },
     "metadata": {},
     "output_type": "display_data"
    }
   ],
   "source": [
    "%%configure -f\n",
    "{\n",
    "    \"conf\": {\n",
    "        \"spark.pyspark.python\": \"python3\",\n",
    "        \"spark.pyspark.virtualenv.enabled\": \"true\",\n",
    "        \"spark.pyspark.virtualenv.type\":\"native\",\n",
    "        \"spark.pyspark.virtualenv.bin.path\":\"/usr/bin/virtualenv\"\n",
    "    }\n",
    "}"
   ]
  },
  {
   "cell_type": "code",
   "execution_count": 1,
   "id": "0bf2f1d1-4df1-410d-8e23-8bfd2db7ca2c",
   "metadata": {
    "execution": {
     "iopub.execute_input": "2022-11-20T19:03:36.227556Z",
     "iopub.status.busy": "2022-11-20T19:03:36.227168Z",
     "iopub.status.idle": "2022-11-20T19:04:13.809185Z",
     "shell.execute_reply": "2022-11-20T19:04:13.808125Z",
     "shell.execute_reply.started": "2022-11-20T19:03:36.227517Z"
    },
    "tags": []
   },
   "outputs": [
    {
     "data": {
      "application/vnd.jupyter.widget-view+json": {
       "model_id": "ed7055c0dceb4a9fa6e30fc5cf310c76",
       "version_major": 2,
       "version_minor": 0
      },
      "text/plain": [
       "VBox()"
      ]
     },
     "metadata": {},
     "output_type": "display_data"
    },
    {
     "name": "stdout",
     "output_type": "stream",
     "text": [
      "Starting Spark application\n"
     ]
    },
    {
     "data": {
      "text/html": [
       "<table>\n",
       "<tr><th>ID</th><th>YARN Application ID</th><th>Kind</th><th>State</th><th>Spark UI</th><th>Driver log</th><th>Current session?</th></tr><tr><td>3</td><td>application_1668970072023_0004</td><td>pyspark</td><td>idle</td><td><a target=\"_blank\" href=\"http://ip-172-31-74-239.ec2.internal:20888/proxy/application_1668970072023_0004/\">Link</a></td><td><a target=\"_blank\" href=\"http://ip-172-31-67-44.ec2.internal:8042/node/containerlogs/container_1668970072023_0004_01_000001/livy\">Link</a></td><td>✔</td></tr></table>"
      ],
      "text/plain": [
       "<IPython.core.display.HTML object>"
      ]
     },
     "metadata": {},
     "output_type": "display_data"
    },
    {
     "data": {
      "application/vnd.jupyter.widget-view+json": {
       "model_id": "",
       "version_major": 2,
       "version_minor": 0
      },
      "text/plain": [
       "FloatProgress(value=0.0, bar_style='info', description='Progress:', layout=Layout(height='25px', width='50%'),…"
      ]
     },
     "metadata": {},
     "output_type": "display_data"
    },
    {
     "name": "stdout",
     "output_type": "stream",
     "text": [
      "SparkSession available as 'spark'.\n"
     ]
    },
    {
     "data": {
      "application/vnd.jupyter.widget-view+json": {
       "model_id": "",
       "version_major": 2,
       "version_minor": 0
      },
      "text/plain": [
       "FloatProgress(value=0.0, bar_style='info', description='Progress:', layout=Layout(height='25px', width='50%'),…"
      ]
     },
     "metadata": {},
     "output_type": "display_data"
    }
   ],
   "source": [
    "#import SparkSession\n",
    "from pyspark.sql import SparkSession"
   ]
  },
  {
   "cell_type": "code",
   "execution_count": 1,
   "id": "f4642fc6",
   "metadata": {
    "execution": {
     "iopub.execute_input": "2022-11-20T19:03:36.227556Z",
     "iopub.status.busy": "2022-11-20T19:03:36.227168Z",
     "iopub.status.idle": "2022-11-20T19:04:13.809185Z",
     "shell.execute_reply": "2022-11-20T19:04:13.808125Z",
     "shell.execute_reply.started": "2022-11-20T19:03:36.227517Z"
    },
    "tags": []
   },
   "outputs": [
    {
     "data": {
      "application/vnd.jupyter.widget-view+json": {
       "model_id": "ed7055c0dceb4a9fa6e30fc5cf310c76",
       "version_major": 2,
       "version_minor": 0
      },
      "text/plain": [
       "VBox()"
      ]
     },
     "metadata": {},
     "output_type": "display_data"
    },
    {
     "name": "stdout",
     "output_type": "stream",
     "text": [
      "Starting Spark application\n"
     ]
    },
    {
     "data": {
      "text/html": [
       "<table>\n",
       "<tr><th>ID</th><th>YARN Application ID</th><th>Kind</th><th>State</th><th>Spark UI</th><th>Driver log</th><th>Current session?</th></tr><tr><td>3</td><td>application_1668970072023_0004</td><td>pyspark</td><td>idle</td><td><a target=\"_blank\" href=\"http://ip-172-31-74-239.ec2.internal:20888/proxy/application_1668970072023_0004/\">Link</a></td><td><a target=\"_blank\" href=\"http://ip-172-31-67-44.ec2.internal:8042/node/containerlogs/container_1668970072023_0004_01_000001/livy\">Link</a></td><td>✔</td></tr></table>"
      ],
      "text/plain": [
       "<IPython.core.display.HTML object>"
      ]
     },
     "metadata": {},
     "output_type": "display_data"
    },
    {
     "data": {
      "application/vnd.jupyter.widget-view+json": {
       "model_id": "",
       "version_major": 2,
       "version_minor": 0
      },
      "text/plain": [
       "FloatProgress(value=0.0, bar_style='info', description='Progress:', layout=Layout(height='25px', width='50%'),…"
      ]
     },
     "metadata": {},
     "output_type": "display_data"
    },
    {
     "name": "stdout",
     "output_type": "stream",
     "text": [
      "SparkSession available as 'spark'.\n"
     ]
    },
    {
     "data": {
      "application/vnd.jupyter.widget-view+json": {
       "model_id": "",
       "version_major": 2,
       "version_minor": 0
      },
      "text/plain": [
       "FloatProgress(value=0.0, bar_style='info', description='Progress:', layout=Layout(height='25px', width='50%'),…"
      ]
     },
     "metadata": {},
     "output_type": "display_data"
    }
   ],
   "source": [
    "#import SparkSession\n",
    "from pyspark.sql import SparkSession"
   ]
  },
  {
   "cell_type": "code",
   "execution_count": 17,
   "id": "37c58691-e19b-43af-815c-71e3538283c5",
   "metadata": {
    "execution": {
     "iopub.execute_input": "2022-11-20T19:18:35.267506Z",
     "iopub.status.busy": "2022-11-20T19:18:35.267118Z",
     "iopub.status.idle": "2022-11-20T19:18:35.550210Z",
     "shell.execute_reply": "2022-11-20T19:18:35.548812Z",
     "shell.execute_reply.started": "2022-11-20T19:18:35.267475Z"
    }
   },
   "outputs": [
    {
     "data": {
      "application/vnd.jupyter.widget-view+json": {
       "model_id": "9b75c654b8df450aa3116df6c5b923f7",
       "version_major": 2,
       "version_minor": 0
      },
      "text/plain": [
       "VBox()"
      ]
     },
     "metadata": {},
     "output_type": "display_data"
    },
    {
     "data": {
      "application/vnd.jupyter.widget-view+json": {
       "model_id": "",
       "version_major": 2,
       "version_minor": 0
      },
      "text/plain": [
       "FloatProgress(value=0.0, bar_style='info', description='Progress:', layout=Layout(height='25px', width='50%'),…"
      ]
     },
     "metadata": {},
     "output_type": "display_data"
    }
   ],
   "source": [
    "#create spar session object\n",
    "spark=SparkSession.builder.appName('p3_data_processing').getOrCreate()"
   ]
  },
  {
   "cell_type": "code",
   "execution_count": 19,
   "id": "c12a9f41-1a69-46ff-9d11-5ec6b373854e",
   "metadata": {
    "execution": {
     "iopub.execute_input": "2022-11-20T19:20:44.968385Z",
     "iopub.status.busy": "2022-11-20T19:20:44.968053Z",
     "iopub.status.idle": "2022-11-20T19:21:00.767858Z",
     "shell.execute_reply": "2022-11-20T19:21:00.766758Z",
     "shell.execute_reply.started": "2022-11-20T19:20:44.968356Z"
    },
    "tags": []
   },
   "outputs": [
    {
     "data": {
      "application/vnd.jupyter.widget-view+json": {
       "model_id": "062192295cdb4a4f8a5c315b7012f79a",
       "version_major": 2,
       "version_minor": 0
      },
      "text/plain": [
       "VBox()"
      ]
     },
     "metadata": {},
     "output_type": "display_data"
    },
    {
     "data": {
      "application/vnd.jupyter.widget-view+json": {
       "model_id": "",
       "version_major": 2,
       "version_minor": 0
      },
      "text/plain": [
       "FloatProgress(value=0.0, bar_style='info', description='Progress:', layout=Layout(height='25px', width='50%'),…"
      ]
     },
     "metadata": {},
     "output_type": "display_data"
    }
   ],
   "source": [
    "# Load csv Dataset \n",
    "df=spark.read.csv('s3://lauram/datasets/covid19/Casos_positivos_de_COVID-19_en_Colombia-100K.csv',inferSchema=True,header=True)"
   ]
  },
  {
   "cell_type": "code",
   "execution_count": 20,
   "id": "8ae12694-38fd-4175-b12c-a6d5912b8989",
   "metadata": {
    "execution": {
     "iopub.execute_input": "2022-11-20T19:21:15.420601Z",
     "iopub.status.busy": "2022-11-20T19:21:15.420291Z",
     "iopub.status.idle": "2022-11-20T19:21:15.643519Z",
     "shell.execute_reply": "2022-11-20T19:21:15.642899Z",
     "shell.execute_reply.started": "2022-11-20T19:21:15.420575Z"
    }
   },
   "outputs": [
    {
     "data": {
      "application/vnd.jupyter.widget-view+json": {
       "model_id": "1ba5aa43f4ef4f769da82e15ea3bb0cc",
       "version_major": 2,
       "version_minor": 0
      },
      "text/plain": [
       "VBox()"
      ]
     },
     "metadata": {},
     "output_type": "display_data"
    },
    {
     "data": {
      "application/vnd.jupyter.widget-view+json": {
       "model_id": "",
       "version_major": 2,
       "version_minor": 0
      },
      "text/plain": [
       "FloatProgress(value=0.0, bar_style='info', description='Progress:', layout=Layout(height='25px', width='50%'),…"
      ]
     },
     "metadata": {},
     "output_type": "display_data"
    },
    {
     "name": "stdout",
     "output_type": "stream",
     "text": [
      "['fecha reporte web', 'ID de caso', 'Fecha de notificación', 'Código DIVIPOLA departamento', 'Nombre departamento', 'Código DIVIPOLA municipio', 'Nombre municipio', 'Edad', 'Unidad de medida de edad', 'Sexo', 'Tipo de contagio', 'Ubicación del caso', 'Estado', 'Código ISO del país', 'Nombre del país', 'Recuperado', 'Fecha de inicio de síntomas', 'Fecha de muerte', 'Fecha de diagnóstico', 'Fecha de recuperación', 'Tipo de recuperación', 'Pertenencia étnica', 'Nombre del grupo étnico']"
     ]
    }
   ],
   "source": [
    "#columns of dataframe\n",
    "df.columns"
   ]
  },
  {
   "cell_type": "code",
   "execution_count": 21,
   "id": "4cd45b11-6791-43da-ab5e-538d7d0e41c7",
   "metadata": {
    "execution": {
     "iopub.execute_input": "2022-11-20T19:21:34.626033Z",
     "iopub.status.busy": "2022-11-20T19:21:34.625526Z",
     "iopub.status.idle": "2022-11-20T19:21:34.903877Z",
     "shell.execute_reply": "2022-11-20T19:21:34.902686Z",
     "shell.execute_reply.started": "2022-11-20T19:21:34.625986Z"
    }
   },
   "outputs": [
    {
     "data": {
      "application/vnd.jupyter.widget-view+json": {
       "model_id": "3297cb8bbdfe47719e87819df994b6eb",
       "version_major": 2,
       "version_minor": 0
      },
      "text/plain": [
       "VBox()"
      ]
     },
     "metadata": {},
     "output_type": "display_data"
    },
    {
     "data": {
      "application/vnd.jupyter.widget-view+json": {
       "model_id": "",
       "version_major": 2,
       "version_minor": 0
      },
      "text/plain": [
       "FloatProgress(value=0.0, bar_style='info', description='Progress:', layout=Layout(height='25px', width='50%'),…"
      ]
     },
     "metadata": {},
     "output_type": "display_data"
    },
    {
     "name": "stdout",
     "output_type": "stream",
     "text": [
      "23"
     ]
    }
   ],
   "source": [
    "#check number of columns\n",
    "len(df.columns)"
   ]
  },
  {
   "cell_type": "code",
   "execution_count": 22,
   "id": "de42b21d-4419-4cd5-9847-6cf5ff39c1f0",
   "metadata": {
    "execution": {
     "iopub.execute_input": "2022-11-20T19:25:26.038150Z",
     "iopub.status.busy": "2022-11-20T19:25:26.037836Z",
     "iopub.status.idle": "2022-11-20T19:25:37.841440Z",
     "shell.execute_reply": "2022-11-20T19:25:37.840080Z",
     "shell.execute_reply.started": "2022-11-20T19:25:26.038123Z"
    }
   },
   "outputs": [
    {
     "data": {
      "application/vnd.jupyter.widget-view+json": {
       "model_id": "061147f1614e4e44a1912d124da09894",
       "version_major": 2,
       "version_minor": 0
      },
      "text/plain": [
       "VBox()"
      ]
     },
     "metadata": {},
     "output_type": "display_data"
    },
    {
     "data": {
      "application/vnd.jupyter.widget-view+json": {
       "model_id": "",
       "version_major": 2,
       "version_minor": 0
      },
      "text/plain": [
       "FloatProgress(value=0.0, bar_style='info', description='Progress:', layout=Layout(height='25px', width='50%'),…"
      ]
     },
     "metadata": {},
     "output_type": "display_data"
    },
    {
     "name": "stdout",
     "output_type": "stream",
     "text": [
      "100000"
     ]
    }
   ],
   "source": [
    "#number of records in dataframe\n",
    "df.count()"
   ]
  },
  {
   "cell_type": "code",
   "execution_count": 23,
   "id": "0e1ce232-1e65-4e5c-b997-01053860ec13",
   "metadata": {
    "execution": {
     "iopub.execute_input": "2022-11-20T19:25:44.192990Z",
     "iopub.status.busy": "2022-11-20T19:25:44.192409Z",
     "iopub.status.idle": "2022-11-20T19:25:45.188351Z",
     "shell.execute_reply": "2022-11-20T19:25:45.187035Z",
     "shell.execute_reply.started": "2022-11-20T19:25:44.192946Z"
    }
   },
   "outputs": [
    {
     "data": {
      "application/vnd.jupyter.widget-view+json": {
       "model_id": "27087cca8ce34790ac91db6316e05010",
       "version_major": 2,
       "version_minor": 0
      },
      "text/plain": [
       "VBox()"
      ]
     },
     "metadata": {},
     "output_type": "display_data"
    },
    {
     "data": {
      "application/vnd.jupyter.widget-view+json": {
       "model_id": "",
       "version_major": 2,
       "version_minor": 0
      },
      "text/plain": [
       "FloatProgress(value=0.0, bar_style='info', description='Progress:', layout=Layout(height='25px', width='50%'),…"
      ]
     },
     "metadata": {},
     "output_type": "display_data"
    },
    {
     "name": "stdout",
     "output_type": "stream",
     "text": [
      "(100000, 23)"
     ]
    }
   ],
   "source": [
    "#shape of dataset\n",
    "print((df.count(),len(df.columns)))"
   ]
  },
  {
   "cell_type": "code",
   "execution_count": 24,
   "id": "f04c3c64-a332-445a-87c5-d832ede47e06",
   "metadata": {
    "execution": {
     "iopub.execute_input": "2022-11-20T19:25:57.823015Z",
     "iopub.status.busy": "2022-11-20T19:25:57.822691Z",
     "iopub.status.idle": "2022-11-20T19:25:58.099901Z",
     "shell.execute_reply": "2022-11-20T19:25:58.098735Z",
     "shell.execute_reply.started": "2022-11-20T19:25:57.822989Z"
    }
   },
   "outputs": [
    {
     "data": {
      "application/vnd.jupyter.widget-view+json": {
       "model_id": "1f85f87daebf43e2bb61a2df9a60be9e",
       "version_major": 2,
       "version_minor": 0
      },
      "text/plain": [
       "VBox()"
      ]
     },
     "metadata": {},
     "output_type": "display_data"
    },
    {
     "data": {
      "application/vnd.jupyter.widget-view+json": {
       "model_id": "",
       "version_major": 2,
       "version_minor": 0
      },
      "text/plain": [
       "FloatProgress(value=0.0, bar_style='info', description='Progress:', layout=Layout(height='25px', width='50%'),…"
      ]
     },
     "metadata": {},
     "output_type": "display_data"
    },
    {
     "name": "stdout",
     "output_type": "stream",
     "text": [
      "root\n",
      " |-- fecha reporte web: string (nullable = true)\n",
      " |-- ID de caso: integer (nullable = true)\n",
      " |-- Fecha de notificación: string (nullable = true)\n",
      " |-- Código DIVIPOLA departamento: integer (nullable = true)\n",
      " |-- Nombre departamento: string (nullable = true)\n",
      " |-- Código DIVIPOLA municipio: integer (nullable = true)\n",
      " |-- Nombre municipio: string (nullable = true)\n",
      " |-- Edad: integer (nullable = true)\n",
      " |-- Unidad de medida de edad: integer (nullable = true)\n",
      " |-- Sexo: string (nullable = true)\n",
      " |-- Tipo de contagio: string (nullable = true)\n",
      " |-- Ubicación del caso: string (nullable = true)\n",
      " |-- Estado: string (nullable = true)\n",
      " |-- Código ISO del país: integer (nullable = true)\n",
      " |-- Nombre del país: string (nullable = true)\n",
      " |-- Recuperado: string (nullable = true)\n",
      " |-- Fecha de inicio de síntomas: string (nullable = true)\n",
      " |-- Fecha de muerte: string (nullable = true)\n",
      " |-- Fecha de diagnóstico: string (nullable = true)\n",
      " |-- Fecha de recuperación: string (nullable = true)\n",
      " |-- Tipo de recuperación: string (nullable = true)\n",
      " |-- Pertenencia étnica: integer (nullable = true)\n",
      " |-- Nombre del grupo étnico: string (nullable = true)"
     ]
    }
   ],
   "source": [
    "#printSchema\n",
    "df.printSchema()"
   ]
  },
  {
   "cell_type": "code",
   "execution_count": 25,
   "id": "fce49c9e-d9d0-488a-bcb8-481e83c4f8ba",
   "metadata": {
    "execution": {
     "iopub.execute_input": "2022-11-20T19:26:13.311366Z",
     "iopub.status.busy": "2022-11-20T19:26:13.311055Z",
     "iopub.status.idle": "2022-11-20T19:26:14.280785Z",
     "shell.execute_reply": "2022-11-20T19:26:14.279635Z",
     "shell.execute_reply.started": "2022-11-20T19:26:13.311340Z"
    }
   },
   "outputs": [
    {
     "data": {
      "application/vnd.jupyter.widget-view+json": {
       "model_id": "ed4e2b7c8a5b4934bef9a8b213a38474",
       "version_major": 2,
       "version_minor": 0
      },
      "text/plain": [
       "VBox()"
      ]
     },
     "metadata": {},
     "output_type": "display_data"
    },
    {
     "data": {
      "application/vnd.jupyter.widget-view+json": {
       "model_id": "",
       "version_major": 2,
       "version_minor": 0
      },
      "text/plain": [
       "FloatProgress(value=0.0, bar_style='info', description='Progress:', layout=Layout(height='25px', width='50%'),…"
      ]
     },
     "metadata": {},
     "output_type": "display_data"
    },
    {
     "name": "stdout",
     "output_type": "stream",
     "text": [
      "+-----------------+----------+---------------------+----------------------------+-------------------+-------------------------+----------------+----+------------------------+----+----------------+------------------+------+-------------------+---------------+----------+---------------------------+---------------+--------------------+---------------------+--------------------+------------------+-----------------------+\n",
      "|fecha reporte web|ID de caso|Fecha de notificación|Código DIVIPOLA departamento|Nombre departamento|Código DIVIPOLA municipio|Nombre municipio|Edad|Unidad de medida de edad|Sexo|Tipo de contagio|Ubicación del caso|Estado|Código ISO del país|Nombre del país|Recuperado|Fecha de inicio de síntomas|Fecha de muerte|Fecha de diagnóstico|Fecha de recuperación|Tipo de recuperación|Pertenencia étnica|Nombre del grupo étnico|\n",
      "+-----------------+----------+---------------------+----------------------------+-------------------+-------------------------+----------------+----+------------------------+----+----------------+------------------+------+-------------------+---------------+----------+---------------------------+---------------+--------------------+---------------------+--------------------+------------------+-----------------------+\n",
      "| 6/3/2020 0:00:00|         1|     2/3/2020 0:00:00|                          11|             BOGOTA|                    11001|          BOGOTA|  19|                       1|   F|       Importado|              Casa|  Leve|                380|         ITALIA|Recuperado|          27/2/2020 0:00:00|           null|    6/3/2020 0:00:00|    13/3/2020 0:00:00|                 PCR|                 6|                   null|\n",
      "| 9/3/2020 0:00:00|         2|     6/3/2020 0:00:00|                          76|              VALLE|                    76111|            BUGA|  34|                       1|   M|       Importado|              Casa|  Leve|                724|         ESPAÑA|Recuperado|           4/3/2020 0:00:00|           null|    9/3/2020 0:00:00|    19/3/2020 0:00:00|                 PCR|                 5|                   null|\n",
      "| 9/3/2020 0:00:00|         3|     7/3/2020 0:00:00|                           5|          ANTIOQUIA|                     5001|        MEDELLIN|  50|                       1|   F|       Importado|              Casa|  Leve|                724|         ESPAÑA|Recuperado|          29/2/2020 0:00:00|           null|    9/3/2020 0:00:00|    15/3/2020 0:00:00|                 PCR|                 6|                   null|\n",
      "|11/3/2020 0:00:00|         4|     9/3/2020 0:00:00|                           5|          ANTIOQUIA|                     5001|        MEDELLIN|  55|                       1|   M|     Relacionado|              Casa|  Leve|               null|           null|Recuperado|           6/3/2020 0:00:00|           null|   11/3/2020 0:00:00|    26/3/2020 0:00:00|                 PCR|                 6|                   null|\n",
      "|11/3/2020 0:00:00|         5|     9/3/2020 0:00:00|                           5|          ANTIOQUIA|                     5001|        MEDELLIN|  25|                       1|   M|     Relacionado|              Casa|  Leve|               null|           null|Recuperado|           8/3/2020 0:00:00|           null|   11/3/2020 0:00:00|    23/3/2020 0:00:00|                 PCR|                 6|                   null|\n",
      "+-----------------+----------+---------------------+----------------------------+-------------------+-------------------------+----------------+----+------------------------+----+----------------+------------------+------+-------------------+---------------+----------+---------------------------+---------------+--------------------+---------------------+--------------------+------------------+-----------------------+\n",
      "only showing top 5 rows"
     ]
    }
   ],
   "source": [
    "#fisrt few rows of dataframe\n",
    "df.show(5)"
   ]
  },
  {
   "cell_type": "code",
   "execution_count": 29,
   "id": "633e98d0-b5c6-4ec5-a06c-7558c711341c",
   "metadata": {
    "execution": {
     "iopub.execute_input": "2022-11-20T19:28:57.276022Z",
     "iopub.status.busy": "2022-11-20T19:28:57.275344Z",
     "iopub.status.idle": "2022-11-20T19:28:57.713512Z",
     "shell.execute_reply": "2022-11-20T19:28:57.707588Z",
     "shell.execute_reply.started": "2022-11-20T19:28:57.275987Z"
    },
    "tags": []
   },
   "outputs": [
    {
     "data": {
      "application/vnd.jupyter.widget-view+json": {
       "model_id": "5e84d4721e524d04a247ef4396dd3c15",
       "version_major": 2,
       "version_minor": 0
      },
      "text/plain": [
       "VBox()"
      ]
     },
     "metadata": {},
     "output_type": "display_data"
    },
    {
     "data": {
      "application/vnd.jupyter.widget-view+json": {
       "model_id": "",
       "version_major": 2,
       "version_minor": 0
      },
      "text/plain": [
       "FloatProgress(value=0.0, bar_style='info', description='Progress:', layout=Layout(height='25px', width='50%'),…"
      ]
     },
     "metadata": {},
     "output_type": "display_data"
    },
    {
     "name": "stdout",
     "output_type": "stream",
     "text": [
      "+----------+-------------------+\n",
      "|ID de caso|Nombre departamento|\n",
      "+----------+-------------------+\n",
      "|         1|             BOGOTA|\n",
      "|         2|              VALLE|\n",
      "|         3|          ANTIOQUIA|\n",
      "|         4|          ANTIOQUIA|\n",
      "|         5|          ANTIOQUIA|\n",
      "+----------+-------------------+\n",
      "only showing top 5 rows"
     ]
    }
   ],
   "source": [
    "#select only 2 columns\n",
    "df.select('ID de caso','Nombre departamento').show(5)"
   ]
  },
  {
   "cell_type": "code",
   "execution_count": 30,
   "id": "50cbcc87-1413-454e-95de-938c5fded6ee",
   "metadata": {
    "execution": {
     "iopub.execute_input": "2022-11-20T19:29:08.313808Z",
     "iopub.status.busy": "2022-11-20T19:29:08.313354Z",
     "iopub.status.idle": "2022-11-20T19:29:18.132865Z",
     "shell.execute_reply": "2022-11-20T19:29:18.131696Z",
     "shell.execute_reply.started": "2022-11-20T19:29:08.313776Z"
    }
   },
   "outputs": [
    {
     "data": {
      "application/vnd.jupyter.widget-view+json": {
       "model_id": "6a1d3f8111e84bf5ac82638c4ea73b3a",
       "version_major": 2,
       "version_minor": 0
      },
      "text/plain": [
       "VBox()"
      ]
     },
     "metadata": {},
     "output_type": "display_data"
    },
    {
     "data": {
      "application/vnd.jupyter.widget-view+json": {
       "model_id": "",
       "version_major": 2,
       "version_minor": 0
      },
      "text/plain": [
       "FloatProgress(value=0.0, bar_style='info', description='Progress:', layout=Layout(height='25px', width='50%'),…"
      ]
     },
     "metadata": {},
     "output_type": "display_data"
    },
    {
     "name": "stdout",
     "output_type": "stream",
     "text": [
      "+-------+-----------------+------------------+---------------------+----------------------------+-------------------+-------------------------+----------------+------------------+------------------------+------+----------------+------------------+---------+-------------------+---------------+----------+---------------------------+----------------+--------------------+---------------------+--------------------+------------------+-----------------------+\n",
      "|summary|fecha reporte web|        ID de caso|Fecha de notificación|Código DIVIPOLA departamento|Nombre departamento|Código DIVIPOLA municipio|Nombre municipio|              Edad|Unidad de medida de edad|  Sexo|Tipo de contagio|Ubicación del caso|   Estado|Código ISO del país|Nombre del país|Recuperado|Fecha de inicio de síntomas| Fecha de muerte|Fecha de diagnóstico|Fecha de recuperación|Tipo de recuperación|Pertenencia étnica|Nombre del grupo étnico|\n",
      "+-------+-----------------+------------------+---------------------+----------------------------+-------------------+-------------------------+----------------+------------------+------------------------+------+----------------+------------------+---------+-------------------+---------------+----------+---------------------------+----------------+--------------------+---------------------+--------------------+------------------+-----------------------+\n",
      "|  count|           100000|            100000|               100000|                      100000|             100000|                   100000|          100000|            100000|                  100000|100000|          100000|            100000|   100000|                912|            912|    100000|                      91615|            5633|               97693|                94832|               94832|            100000|                   5658|\n",
      "|   mean|             null|       50038.74855|                 null|                   2631.6288|               null|              25327.34487|            null|          39.30175|                 1.00637|  null|            null|              null|     null|  596.3475877192982|           null|      null|                       null|            null|                null|                 null|                null|           5.57693|                   null|\n",
      "| stddev|             null|28870.559312724632|                 null|           6172.660309006446|               null|       25830.580807180497|            null|18.420127848323958|     0.08893538213232119|  null|            null|              null|     null| 255.56508665655986|           null|      null|                       null|            null|                null|                 null|                null|1.1828253319309887|                   null|\n",
      "|    min| 1/4/2020 0:00:00|                 1|     1/4/2020 0:00:00|                           5|           AMAZONAS|                     5001|          ABREGO|                 1|                       1|     F|     Comunitaria|              Casa|Fallecido|                 32|       ALEMANIA| Fallecido|           1/3/2020 0:00:00|1/1/2021 0:00:00|    1/4/2020 0:00:00|     1/1/2021 0:00:00|                 PCR|                 1|                 AMBALO|\n",
      "|    max| 9/6/2020 0:00:00|            100040|     9/7/2020 0:00:00|                       47001|            VICHADA|                    99001| puerto COLOMBIA|               104|                       3|     M|     Relacionado|               N/A|      N/A|                862|      VENEZUELA| fallecido|           9/7/2020 0:00:00|9/9/2020 0:00:00|    9/9/2020 0:00:00|     9/8/2020 0:00:00|              Tiempo|                 6|                   ZENU|\n",
      "+-------+-----------------+------------------+---------------------+----------------------------+-------------------+-------------------------+----------------+------------------+------------------------+------+----------------+------------------+---------+-------------------+---------------+----------+---------------------------+----------------+--------------------+---------------------+--------------------+------------------+-----------------------+"
     ]
    }
   ],
   "source": [
    "#info about dataframe\n",
    "df.describe().show()"
   ]
  },
  {
   "cell_type": "code",
   "execution_count": 31,
   "id": "9d10d243-2e23-4e2f-b180-d0d42736aea4",
   "metadata": {
    "execution": {
     "iopub.execute_input": "2022-11-20T19:30:21.030866Z",
     "iopub.status.busy": "2022-11-20T19:30:21.030517Z",
     "iopub.status.idle": "2022-11-20T19:30:21.302342Z",
     "shell.execute_reply": "2022-11-20T19:30:21.300242Z",
     "shell.execute_reply.started": "2022-11-20T19:30:21.030818Z"
    }
   },
   "outputs": [
    {
     "data": {
      "application/vnd.jupyter.widget-view+json": {
       "model_id": "6c79da25209f4b65b3a3c43d6aab4e77",
       "version_major": 2,
       "version_minor": 0
      },
      "text/plain": [
       "VBox()"
      ]
     },
     "metadata": {},
     "output_type": "display_data"
    },
    {
     "data": {
      "application/vnd.jupyter.widget-view+json": {
       "model_id": "",
       "version_major": 2,
       "version_minor": 0
      },
      "text/plain": [
       "FloatProgress(value=0.0, bar_style='info', description='Progress:', layout=Layout(height='25px', width='50%'),…"
      ]
     },
     "metadata": {},
     "output_type": "display_data"
    }
   ],
   "source": [
    "from pyspark.sql.types import StringType,DoubleType,IntegerType"
   ]
  },
  {
   "cell_type": "code",
   "execution_count": 37,
   "id": "f1a319be-ff3c-4a84-b037-7797022467dd",
   "metadata": {
    "execution": {
     "iopub.execute_input": "2022-11-20T19:38:51.568651Z",
     "iopub.status.busy": "2022-11-20T19:38:51.568060Z",
     "iopub.status.idle": "2022-11-20T19:38:52.496014Z",
     "shell.execute_reply": "2022-11-20T19:38:52.494986Z",
     "shell.execute_reply.started": "2022-11-20T19:38:51.568619Z"
    },
    "tags": []
   },
   "outputs": [
    {
     "data": {
      "application/vnd.jupyter.widget-view+json": {
       "model_id": "4c91244743ca4abf86459bebe733f434",
       "version_major": 2,
       "version_minor": 0
      },
      "text/plain": [
       "VBox()"
      ]
     },
     "metadata": {},
     "output_type": "display_data"
    },
    {
     "data": {
      "application/vnd.jupyter.widget-view+json": {
       "model_id": "",
       "version_major": 2,
       "version_minor": 0
      },
      "text/plain": [
       "FloatProgress(value=0.0, bar_style='info', description='Progress:', layout=Layout(height='25px', width='50%'),…"
      ]
     },
     "metadata": {},
     "output_type": "display_data"
    },
    {
     "name": "stdout",
     "output_type": "stream",
     "text": [
      "+-----------------+----------+---------------------+----------------------------+-------------------+-------------------------+----------------+----+------------------------+----+----------------+------------------+------+-------------------+---------------+----------+---------------------------+---------------+--------------------+---------------------+--------------------+------------------+-----------------------+----------------+\n",
      "|fecha reporte web|ID de caso|Fecha de notificación|Código DIVIPOLA departamento|Nombre departamento|Código DIVIPOLA municipio|Nombre municipio|Edad|Unidad de medida de edad|Sexo|Tipo de contagio|Ubicación del caso|Estado|Código ISO del país|Nombre del país|Recuperado|Fecha de inicio de síntomas|Fecha de muerte|Fecha de diagnóstico|Fecha de recuperación|Tipo de recuperación|Pertenencia étnica|Nombre del grupo étnico|age_after_10_yrs|\n",
      "+-----------------+----------+---------------------+----------------------------+-------------------+-------------------------+----------------+----+------------------------+----+----------------+------------------+------+-------------------+---------------+----------+---------------------------+---------------+--------------------+---------------------+--------------------+------------------+-----------------------+----------------+\n",
      "|6/3/2020 0:00:00 |1         |2/3/2020 0:00:00     |11                          |BOGOTA             |11001                    |BOGOTA          |19  |1                       |F   |Importado       |Casa              |Leve  |380                |ITALIA         |Recuperado|27/2/2020 0:00:00          |null           |6/3/2020 0:00:00    |13/3/2020 0:00:00    |PCR                 |6                 |null                   |29              |\n",
      "|9/3/2020 0:00:00 |2         |6/3/2020 0:00:00     |76                          |VALLE              |76111                    |BUGA            |34  |1                       |M   |Importado       |Casa              |Leve  |724                |ESPAÑA         |Recuperado|4/3/2020 0:00:00           |null           |9/3/2020 0:00:00    |19/3/2020 0:00:00    |PCR                 |5                 |null                   |44              |\n",
      "|9/3/2020 0:00:00 |3         |7/3/2020 0:00:00     |5                           |ANTIOQUIA          |5001                     |MEDELLIN        |50  |1                       |F   |Importado       |Casa              |Leve  |724                |ESPAÑA         |Recuperado|29/2/2020 0:00:00          |null           |9/3/2020 0:00:00    |15/3/2020 0:00:00    |PCR                 |6                 |null                   |60              |\n",
      "|11/3/2020 0:00:00|4         |9/3/2020 0:00:00     |5                           |ANTIOQUIA          |5001                     |MEDELLIN        |55  |1                       |M   |Relacionado     |Casa              |Leve  |null               |null           |Recuperado|6/3/2020 0:00:00           |null           |11/3/2020 0:00:00   |26/3/2020 0:00:00    |PCR                 |6                 |null                   |65              |\n",
      "|11/3/2020 0:00:00|5         |9/3/2020 0:00:00     |5                           |ANTIOQUIA          |5001                     |MEDELLIN        |25  |1                       |M   |Relacionado     |Casa              |Leve  |null               |null           |Recuperado|8/3/2020 0:00:00           |null           |11/3/2020 0:00:00   |23/3/2020 0:00:00    |PCR                 |6                 |null                   |35              |\n",
      "+-----------------+----------+---------------------+----------------------------+-------------------+-------------------------+----------------+----+------------------------+----+----------------+------------------+------+-------------------+---------------+----------+---------------------------+---------------+--------------------+---------------------+--------------------+------------------+-----------------------+----------------+\n",
      "only showing top 5 rows"
     ]
    }
   ],
   "source": [
    "#with column\n",
    "df.withColumn(\"age_after_10_yrs\",(df[\"Edad\"]+10)).show(5,False)"
   ]
  },
  {
   "cell_type": "code",
   "execution_count": 35,
   "id": "72c0e6c1-3aa1-4b4b-8d72-0b269bc41f0b",
   "metadata": {
    "execution": {
     "iopub.execute_input": "2022-11-20T19:37:04.644472Z",
     "iopub.status.busy": "2022-11-20T19:37:04.643681Z",
     "iopub.status.idle": "2022-11-20T19:37:05.662061Z",
     "shell.execute_reply": "2022-11-20T19:37:05.660897Z",
     "shell.execute_reply.started": "2022-11-20T19:37:04.644419Z"
    },
    "tags": []
   },
   "outputs": [
    {
     "data": {
      "application/vnd.jupyter.widget-view+json": {
       "model_id": "cf59859ab08a4bbe8e810444ca6e79c7",
       "version_major": 2,
       "version_minor": 0
      },
      "text/plain": [
       "VBox()"
      ]
     },
     "metadata": {},
     "output_type": "display_data"
    },
    {
     "data": {
      "application/vnd.jupyter.widget-view+json": {
       "model_id": "",
       "version_major": 2,
       "version_minor": 0
      },
      "text/plain": [
       "FloatProgress(value=0.0, bar_style='info', description='Progress:', layout=Layout(height='25px', width='50%'),…"
      ]
     },
     "metadata": {},
     "output_type": "display_data"
    },
    {
     "name": "stdout",
     "output_type": "stream",
     "text": [
      "+-----------------+----------+---------------------+----------------------------+-------------------+-------------------------+----------------+----+------------------------+----+----------------+------------------+------+-------------------+---------------+----------+---------------------------+---------------+--------------------+---------------------+--------------------+------------------+-----------------------+----------+\n",
      "|fecha reporte web|ID de caso|Fecha de notificación|Código DIVIPOLA departamento|Nombre departamento|Código DIVIPOLA municipio|Nombre municipio|Edad|Unidad de medida de edad|Sexo|Tipo de contagio|Ubicación del caso|Estado|Código ISO del país|Nombre del país|Recuperado|Fecha de inicio de síntomas|Fecha de muerte|Fecha de diagnóstico|Fecha de recuperación|Tipo de recuperación|Pertenencia étnica|Nombre del grupo étnico|age_double|\n",
      "+-----------------+----------+---------------------+----------------------------+-------------------+-------------------------+----------------+----+------------------------+----+----------------+------------------+------+-------------------+---------------+----------+---------------------------+---------------+--------------------+---------------------+--------------------+------------------+-----------------------+----------+\n",
      "|6/3/2020 0:00:00 |1         |2/3/2020 0:00:00     |11                          |BOGOTA             |11001                    |BOGOTA          |19  |1                       |F   |Importado       |Casa              |Leve  |380                |ITALIA         |Recuperado|27/2/2020 0:00:00          |null           |6/3/2020 0:00:00    |13/3/2020 0:00:00    |PCR                 |6                 |null                   |19.0      |\n",
      "|9/3/2020 0:00:00 |2         |6/3/2020 0:00:00     |76                          |VALLE              |76111                    |BUGA            |34  |1                       |M   |Importado       |Casa              |Leve  |724                |ESPAÑA         |Recuperado|4/3/2020 0:00:00           |null           |9/3/2020 0:00:00    |19/3/2020 0:00:00    |PCR                 |5                 |null                   |34.0      |\n",
      "|9/3/2020 0:00:00 |3         |7/3/2020 0:00:00     |5                           |ANTIOQUIA          |5001                     |MEDELLIN        |50  |1                       |F   |Importado       |Casa              |Leve  |724                |ESPAÑA         |Recuperado|29/2/2020 0:00:00          |null           |9/3/2020 0:00:00    |15/3/2020 0:00:00    |PCR                 |6                 |null                   |50.0      |\n",
      "|11/3/2020 0:00:00|4         |9/3/2020 0:00:00     |5                           |ANTIOQUIA          |5001                     |MEDELLIN        |55  |1                       |M   |Relacionado     |Casa              |Leve  |null               |null           |Recuperado|6/3/2020 0:00:00           |null           |11/3/2020 0:00:00   |26/3/2020 0:00:00    |PCR                 |6                 |null                   |55.0      |\n",
      "|11/3/2020 0:00:00|5         |9/3/2020 0:00:00     |5                           |ANTIOQUIA          |5001                     |MEDELLIN        |25  |1                       |M   |Relacionado     |Casa              |Leve  |null               |null           |Recuperado|8/3/2020 0:00:00           |null           |11/3/2020 0:00:00   |23/3/2020 0:00:00    |PCR                 |6                 |null                   |25.0      |\n",
      "+-----------------+----------+---------------------+----------------------------+-------------------+-------------------------+----------------+----+------------------------+----+----------------+------------------+------+-------------------+---------------+----------+---------------------------+---------------+--------------------+---------------------+--------------------+------------------+-----------------------+----------+\n",
      "only showing top 5 rows"
     ]
    }
   ],
   "source": [
    "df.withColumn('age_double',df['Edad'].cast(DoubleType())).show(5,False)"
   ]
  },
  {
   "cell_type": "code",
   "execution_count": 32,
   "id": "1d7df44b-2266-436e-a6ca-2c43398c87d4",
   "metadata": {
    "execution": {
     "iopub.execute_input": "2022-11-20T19:33:39.494014Z",
     "iopub.status.busy": "2022-11-20T19:33:39.493434Z",
     "iopub.status.idle": "2022-11-20T19:33:51.341264Z",
     "shell.execute_reply": "2022-11-20T19:33:51.340185Z",
     "shell.execute_reply.started": "2022-11-20T19:33:39.493974Z"
    }
   },
   "outputs": [
    {
     "data": {
      "application/vnd.jupyter.widget-view+json": {
       "model_id": "18142201c61442479a7e096e4880d803",
       "version_major": 2,
       "version_minor": 0
      },
      "text/plain": [
       "VBox()"
      ]
     },
     "metadata": {},
     "output_type": "display_data"
    },
    {
     "data": {
      "application/vnd.jupyter.widget-view+json": {
       "model_id": "",
       "version_major": 2,
       "version_minor": 0
      },
      "text/plain": [
       "FloatProgress(value=0.0, bar_style='info', description='Progress:', layout=Layout(height='25px', width='50%'),…"
      ]
     },
     "metadata": {},
     "output_type": "display_data"
    },
    {
     "name": "stdout",
     "output_type": "stream",
     "text": [
      "+-----------------+----------+---------------------+----------------------------+-------------------+-------------------------+----------------+----+------------------------+----+----------------+------------------+------+-------------------+--------------------+----------+---------------------------+---------------+--------------------+---------------------+--------------------+------------------+-----------------------+\n",
      "|fecha reporte web|ID de caso|Fecha de notificación|Código DIVIPOLA departamento|Nombre departamento|Código DIVIPOLA municipio|Nombre municipio|Edad|Unidad de medida de edad|Sexo|Tipo de contagio|Ubicación del caso|Estado|Código ISO del país|     Nombre del país|Recuperado|Fecha de inicio de síntomas|Fecha de muerte|Fecha de diagnóstico|Fecha de recuperación|Tipo de recuperación|Pertenencia étnica|Nombre del grupo étnico|\n",
      "+-----------------+----------+---------------------+----------------------------+-------------------+-------------------------+----------------+----+------------------------+----+----------------+------------------+------+-------------------+--------------------+----------+---------------------------+---------------+--------------------+---------------------+--------------------+------------------+-----------------------+\n",
      "| 6/3/2020 0:00:00|         1|     2/3/2020 0:00:00|                          11|             BOGOTA|                    11001|          BOGOTA|  19|                       1|   F|       Importado|              Casa|  Leve|                380|              ITALIA|Recuperado|          27/2/2020 0:00:00|           null|    6/3/2020 0:00:00|    13/3/2020 0:00:00|                 PCR|                 6|                   null|\n",
      "| 9/3/2020 0:00:00|         3|     7/3/2020 0:00:00|                           5|          ANTIOQUIA|                     5001|        MEDELLIN|  50|                       1|   F|       Importado|              Casa|  Leve|                724|              ESPAÑA|Recuperado|          29/2/2020 0:00:00|           null|    9/3/2020 0:00:00|    15/3/2020 0:00:00|                 PCR|                 6|                   null|\n",
      "|11/3/2020 0:00:00|         6|    10/3/2020 0:00:00|                           5|          ANTIOQUIA|                     5360|          ITAGUI|  27|                       1|   F|     Relacionado|              Casa|  Leve|               null|                null|Recuperado|           6/3/2020 0:00:00|           null|   11/3/2020 0:00:00|    26/3/2020 0:00:00|                 PCR|                 6|                   null|\n",
      "|11/3/2020 0:00:00|         7|     8/3/2020 0:00:00|                       13001|          CARTAGENA|                    13001|       CARTAGENA|  85|                       1|   F|       Importado|              Casa|  Leve|                840|ESTADOS UNIDOS DE...|Recuperado|           2/3/2020 0:00:00|           null|   11/3/2020 0:00:00|    17/3/2020 0:00:00|                 PCR|                 6|                   null|\n",
      "|11/3/2020 0:00:00|         8|     9/3/2020 0:00:00|                          11|             BOGOTA|                    11001|          BOGOTA|  22|                       1|   F|       Importado|              Casa|  Leve|                724|              ESPAÑA|Recuperado|           6/3/2020 0:00:00|           null|   11/3/2020 0:00:00|    21/3/2020 0:00:00|                 PCR|                 6|                   null|\n",
      "|11/3/2020 0:00:00|         9|     8/3/2020 0:00:00|                          11|             BOGOTA|                    11001|          BOGOTA|  28|                       1|   F|       Importado|              Casa|  Leve|                724|              ESPAÑA|Recuperado|           7/3/2020 0:00:00|           null|   11/3/2020 0:00:00|    23/3/2020 0:00:00|                 PCR|                 6|                   null|\n",
      "|12/3/2020 0:00:00|        10|    12/3/2020 0:00:00|                          11|             BOGOTA|                    11001|          BOGOTA|  36|                       1|   F|       Importado|              Casa|  Leve|                724|              ESPAÑA|Recuperado|           6/3/2020 0:00:00|           null|   12/3/2020 0:00:00|    21/3/2020 0:00:00|                 PCR|                 6|                   null|\n",
      "|12/3/2020 0:00:00|        11|    11/3/2020 0:00:00|                          11|             BOGOTA|                    11001|          BOGOTA|  42|                       1|   F|       Importado|              Casa|  Leve|                724|              ESPAÑA|Recuperado|           6/3/2020 0:00:00|           null|   12/3/2020 0:00:00|    31/3/2020 0:00:00|                 PCR|                 6|                   null|\n",
      "|12/3/2020 0:00:00|        12|    10/3/2020 0:00:00|                          41|              HUILA|                    41001|           NEIVA|  74|                       1|   F|       Importado|              Casa|  Leve|                380|              ITALIA|Recuperado|           6/3/2020 0:00:00|           null|   12/3/2020 0:00:00|     9/4/2020 0:00:00|                 PCR|                 6|                   null|\n",
      "|12/3/2020 0:00:00|        13|    10/3/2020 0:00:00|                          41|              HUILA|                    41001|           NEIVA|  68|                       1|   F|     Relacionado|              Casa|  Leve|               null|                null|Recuperado|           6/3/2020 0:00:00|           null|   12/3/2020 0:00:00|    30/3/2020 0:00:00|                 PCR|                 6|                   null|\n",
      "|13/3/2020 0:00:00|        15|    13/3/2020 0:00:00|                          50|               META|                    50001|   VILLAVICENCIO|  30|                       1|   F|       Importado|              Casa|  Leve|                724|              ESPAÑA|Recuperado|           9/3/2020 0:00:00|           null|   13/3/2020 0:00:00|    23/3/2020 0:00:00|                 PCR|                 6|                   null|\n",
      "|13/3/2020 0:00:00|        16|    11/3/2020 0:00:00|                          11|             BOGOTA|                    11001|          BOGOTA|  61|                       1|   F|       Importado|              Casa|  Leve|                380|              ITALIA|Recuperado|           8/3/2020 0:00:00|           null|   13/3/2020 0:00:00|    23/3/2020 0:00:00|                 PCR|                 5|                   null|\n",
      "|14/3/2020 0:00:00|        17|    11/3/2020 0:00:00|                          11|             BOGOTA|                    11001|          BOGOTA|  73|                       1|   F|       Importado|              Casa|  Leve|                724|              ESPAÑA|Recuperado|          28/2/2020 0:00:00|           null|   14/3/2020 0:00:00|    14/3/2020 0:00:00|                 PCR|                 6|                   null|\n",
      "|14/3/2020 0:00:00|        19|    12/3/2020 0:00:00|                          11|             BOGOTA|                    11001|          BOGOTA|  54|                       1|   F|     Relacionado|              Casa|  Leve|               null|                null|Recuperado|           9/3/2020 0:00:00|           null|   14/3/2020 0:00:00|    24/3/2020 0:00:00|                 PCR|                 6|                   null|\n",
      "|14/3/2020 0:00:00|        20|    11/3/2020 0:00:00|                           5|          ANTIOQUIA|                     5001|        MEDELLIN|  26|                       1|   F|     Relacionado|              Casa|  Leve|               null|                null|Recuperado|           9/3/2020 0:00:00|           null|   14/3/2020 0:00:00|    24/3/2020 0:00:00|                 PCR|                 6|                   null|\n",
      "|14/3/2020 0:00:00|        24|    12/3/2020 0:00:00|                          11|             BOGOTA|                    11001|          BOGOTA|  18|                       1|   F|       Importado|              Casa|  Leve|                724|              ESPAÑA|Recuperado|          12/3/2020 0:00:00|           null|   14/3/2020 0:00:00|    27/3/2020 0:00:00|                 PCR|                 6|                   null|\n",
      "|15/3/2020 0:00:00|        26|    15/3/2020 0:00:00|                       13001|          CARTAGENA|                    13001|       CARTAGENA|  30|                       1|   F|     Relacionado|              Casa|  Leve|               null|                null|Recuperado|                       null|           null|   15/3/2020 0:00:00|    25/3/2020 0:00:00|                 PCR|                 6|                   null|\n",
      "|15/3/2020 0:00:00|        27|    15/3/2020 0:00:00|                       13001|          CARTAGENA|                    13001|       CARTAGENA|  30|                       1|   F|     Relacionado|              Casa|  Leve|               null|                null|Recuperado|                       null|           null|   15/3/2020 0:00:00|    25/3/2020 0:00:00|                 PCR|                 6|                   null|\n",
      "|12/3/2020 0:00:00|        29|    12/3/2020 0:00:00|                          41|              HUILA|                    41001|           NEIVA|  55|                       1|   F|     Relacionado|              Casa|  Leve|               null|                null|Recuperado|          10/3/2020 0:00:00|           null|   14/3/2020 0:00:00|    25/3/2020 0:00:00|                 PCR|                 6|                   null|\n",
      "|15/3/2020 0:00:00|        30|    13/3/2020 0:00:00|                          54|    NORTE SANTANDER|                    54001|          CUCUTA|  48|                       1|   F|       Importado|              Casa|  Leve|                724|              ESPAÑA|Recuperado|          11/3/2020 0:00:00|           null|   15/3/2020 0:00:00|    25/3/2020 0:00:00|                 PCR|                 6|                   null|\n",
      "+-----------------+----------+---------------------+----------------------------+-------------------+-------------------------+----------------+----+------------------------+----+----------------+------------------+------+-------------------+--------------------+----------+---------------------------+---------------+--------------------+---------------------+--------------------+------------------+-----------------------+\n",
      "only showing top 20 rows"
     ]
    }
   ],
   "source": [
    "#filter the records \n",
    "df.filter(df['sexo']=='F').show()"
   ]
  },
  {
   "cell_type": "code",
   "execution_count": 40,
   "id": "558e22df-6023-44e5-a44c-5785916fe091",
   "metadata": {
    "execution": {
     "iopub.execute_input": "2022-11-20T19:40:16.795173Z",
     "iopub.status.busy": "2022-11-20T19:40:16.794689Z",
     "iopub.status.idle": "2022-11-20T19:40:28.680388Z",
     "shell.execute_reply": "2022-11-20T19:40:28.679256Z",
     "shell.execute_reply.started": "2022-11-20T19:40:16.795129Z"
    },
    "tags": []
   },
   "outputs": [
    {
     "data": {
      "application/vnd.jupyter.widget-view+json": {
       "model_id": "cf0a34e7d674443ab284837d2d920e9d",
       "version_major": 2,
       "version_minor": 0
      },
      "text/plain": [
       "VBox()"
      ]
     },
     "metadata": {},
     "output_type": "display_data"
    },
    {
     "data": {
      "application/vnd.jupyter.widget-view+json": {
       "model_id": "",
       "version_major": 2,
       "version_minor": 0
      },
      "text/plain": [
       "FloatProgress(value=0.0, bar_style='info', description='Progress:', layout=Layout(height='25px', width='50%'),…"
      ]
     },
     "metadata": {},
     "output_type": "display_data"
    },
    {
     "name": "stdout",
     "output_type": "stream",
     "text": [
      "+----+----------------+----+\n",
      "|Edad|Nombre municipio|sexo|\n",
      "+----+----------------+----+\n",
      "|  19|          BOGOTA|   F|\n",
      "|  50|        MEDELLIN|   F|\n",
      "|  27|          ITAGUI|   F|\n",
      "|  85|       CARTAGENA|   F|\n",
      "|  22|          BOGOTA|   F|\n",
      "|  28|          BOGOTA|   F|\n",
      "|  36|          BOGOTA|   F|\n",
      "|  42|          BOGOTA|   F|\n",
      "|  74|           NEIVA|   F|\n",
      "|  68|           NEIVA|   F|\n",
      "|  30|   VILLAVICENCIO|   F|\n",
      "|  61|          BOGOTA|   F|\n",
      "|  73|          BOGOTA|   F|\n",
      "|  54|          BOGOTA|   F|\n",
      "|  26|        MEDELLIN|   F|\n",
      "|  18|          BOGOTA|   F|\n",
      "|  30|       CARTAGENA|   F|\n",
      "|  30|       CARTAGENA|   F|\n",
      "|  55|           NEIVA|   F|\n",
      "|  48|          CUCUTA|   F|\n",
      "+----+----------------+----+\n",
      "only showing top 20 rows"
     ]
    }
   ],
   "source": [
    "#filter the records \n",
    "df.filter(df['sexo']=='F').select('Edad','Nombre municipio','sexo').show()"
   ]
  },
  {
   "cell_type": "code",
   "execution_count": 41,
   "id": "9d511e7f-e24c-45ef-9954-a5a548131c0e",
   "metadata": {
    "execution": {
     "iopub.execute_input": "2022-11-20T19:41:15.372571Z",
     "iopub.status.busy": "2022-11-20T19:41:15.372249Z",
     "iopub.status.idle": "2022-11-20T19:41:16.367850Z",
     "shell.execute_reply": "2022-11-20T19:41:16.366674Z",
     "shell.execute_reply.started": "2022-11-20T19:41:15.372543Z"
    }
   },
   "outputs": [
    {
     "data": {
      "application/vnd.jupyter.widget-view+json": {
       "model_id": "6b1b20a958ec47ac9fd997e7c4316412",
       "version_major": 2,
       "version_minor": 0
      },
      "text/plain": [
       "VBox()"
      ]
     },
     "metadata": {},
     "output_type": "display_data"
    },
    {
     "data": {
      "application/vnd.jupyter.widget-view+json": {
       "model_id": "",
       "version_major": 2,
       "version_minor": 0
      },
      "text/plain": [
       "FloatProgress(value=0.0, bar_style='info', description='Progress:', layout=Layout(height='25px', width='50%'),…"
      ]
     },
     "metadata": {},
     "output_type": "display_data"
    },
    {
     "name": "stdout",
     "output_type": "stream",
     "text": [
      "+-----------------+----------+---------------------+----------------------------+-------------------+-------------------------+----------------+----+------------------------+----+----------------+------------------+---------+-------------------+--------------------+----------+---------------------------+----------------+--------------------+---------------------+--------------------+------------------+-----------------------+\n",
      "|fecha reporte web|ID de caso|Fecha de notificación|Código DIVIPOLA departamento|Nombre departamento|Código DIVIPOLA municipio|Nombre municipio|Edad|Unidad de medida de edad|Sexo|Tipo de contagio|Ubicación del caso|   Estado|Código ISO del país|     Nombre del país|Recuperado|Fecha de inicio de síntomas| Fecha de muerte|Fecha de diagnóstico|Fecha de recuperación|Tipo de recuperación|Pertenencia étnica|Nombre del grupo étnico|\n",
      "+-----------------+----------+---------------------+----------------------------+-------------------+-------------------------+----------------+----+------------------------+----+----------------+------------------+---------+-------------------+--------------------+----------+---------------------------+----------------+--------------------+---------------------+--------------------+------------------+-----------------------+\n",
      "|11/3/2020 0:00:00|         7|     8/3/2020 0:00:00|                       13001|          CARTAGENA|                    13001|       CARTAGENA|  85|                       1|   F|       Importado|              Casa|     Leve|                840|ESTADOS UNIDOS DE...|Recuperado|           2/3/2020 0:00:00|            null|   11/3/2020 0:00:00|    17/3/2020 0:00:00|                 PCR|                 6|                   null|\n",
      "|12/3/2020 0:00:00|        12|    10/3/2020 0:00:00|                          41|              HUILA|                    41001|           NEIVA|  74|                       1|   F|       Importado|              Casa|     Leve|                380|              ITALIA|Recuperado|           6/3/2020 0:00:00|            null|   12/3/2020 0:00:00|     9/4/2020 0:00:00|                 PCR|                 6|                   null|\n",
      "|12/3/2020 0:00:00|        13|    10/3/2020 0:00:00|                          41|              HUILA|                    41001|           NEIVA|  68|                       1|   F|     Relacionado|              Casa|     Leve|               null|                null|Recuperado|           6/3/2020 0:00:00|            null|   12/3/2020 0:00:00|    30/3/2020 0:00:00|                 PCR|                 6|                   null|\n",
      "|13/3/2020 0:00:00|        16|    11/3/2020 0:00:00|                          11|             BOGOTA|                    11001|          BOGOTA|  61|                       1|   F|       Importado|              Casa|     Leve|                380|              ITALIA|Recuperado|           8/3/2020 0:00:00|            null|   13/3/2020 0:00:00|    23/3/2020 0:00:00|                 PCR|                 5|                   null|\n",
      "|14/3/2020 0:00:00|        17|    11/3/2020 0:00:00|                          11|             BOGOTA|                    11001|          BOGOTA|  73|                       1|   F|       Importado|              Casa|     Leve|                724|              ESPAÑA|Recuperado|          28/2/2020 0:00:00|            null|   14/3/2020 0:00:00|    14/3/2020 0:00:00|                 PCR|                 6|                   null|\n",
      "|14/3/2020 0:00:00|        19|    12/3/2020 0:00:00|                          11|             BOGOTA|                    11001|          BOGOTA|  54|                       1|   F|     Relacionado|              Casa|     Leve|               null|                null|Recuperado|           9/3/2020 0:00:00|            null|   14/3/2020 0:00:00|    24/3/2020 0:00:00|                 PCR|                 6|                   null|\n",
      "|12/3/2020 0:00:00|        29|    12/3/2020 0:00:00|                          41|              HUILA|                    41001|           NEIVA|  55|                       1|   F|     Relacionado|              Casa|     Leve|               null|                null|Recuperado|          10/3/2020 0:00:00|            null|   14/3/2020 0:00:00|    25/3/2020 0:00:00|                 PCR|                 6|                   null|\n",
      "|14/3/2020 0:00:00|        42|    14/3/2020 0:00:00|                          41|              HUILA|                    41001|           NEIVA|  52|                       1|   F|     Relacionado|              Casa|     Leve|               null|                null|Recuperado|          10/3/2020 0:00:00|            null|   15/3/2020 0:00:00|    24/3/2020 0:00:00|                 PCR|                 6|                   null|\n",
      "|15/3/2020 0:00:00|        50|    14/3/2020 0:00:00|                          11|             BOGOTA|                    11001|          BOGOTA|  67|                       1|   F|       Importado|              Casa|     Leve|                724|              ESPAÑA|Recuperado|           8/3/2020 0:00:00|            null|   15/3/2020 0:00:00|    23/3/2020 0:00:00|                 PCR|                 6|                   null|\n",
      "|16/3/2020 0:00:00|        55|    16/3/2020 0:00:00|                          11|             BOGOTA|                    11001|          BOGOTA|  58|                       1|   F|     Relacionado|              Casa|     Leve|               null|                null|Recuperado|           5/3/2020 0:00:00|            null|   16/3/2020 0:00:00|    20/3/2020 0:00:00|                 PCR|                 6|                   null|\n",
      "|17/3/2020 0:00:00|        73|    16/3/2020 0:00:00|                       13001|          CARTAGENA|                    13001|       CARTAGENA|  54|                       1|   F|     Relacionado|              Casa|     Leve|               null|                null|Recuperado|          14/3/2020 0:00:00|            null|   17/3/2020 0:00:00|    28/3/2020 0:00:00|                 PCR|                 6|                   null|\n",
      "|17/3/2020 0:00:00|        80|    14/3/2020 0:00:00|                          76|              VALLE|                    76520|         PALMIRA|  53|                       1|   F|     Relacionado|              Casa|     Leve|               null|                null|Recuperado|          13/3/2020 0:00:00|            null|   17/3/2020 0:00:00|    28/3/2020 0:00:00|                 PCR|                 6|                   null|\n",
      "|17/3/2020 0:00:00|        90|    15/3/2020 0:00:00|                          41|              HUILA|                    41001|           NEIVA|  53|                       1|   F|     Relacionado|              Casa|     Leve|               null|                null|Recuperado|          15/3/2020 0:00:00|            null|   17/3/2020 0:00:00|    30/3/2020 0:00:00|                 PCR|                 6|                   null|\n",
      "|19/3/2020 0:00:00|       108|    17/3/2020 0:00:00|                           5|          ANTIOQUIA|                     5001|        MEDELLIN|  57|                       1|   F|       Importado|              Casa|     Leve|                724|              ESPAÑA|Recuperado|          14/3/2020 0:00:00|            null|   19/3/2020 0:00:00|    28/3/2020 0:00:00|                 PCR|                 6|                   null|\n",
      "|19/3/2020 0:00:00|       110|    17/3/2020 0:00:00|                          11|             BOGOTA|                    11001|          BOGOTA|  62|                       1|   F|       Importado|              Casa|     Leve|                840|ESTADOS UNIDOS DE...|Recuperado|          13/3/2020 0:00:00|            null|   19/3/2020 0:00:00|    12/4/2020 0:00:00|                 PCR|                 6|                   null|\n",
      "|19/3/2020 0:00:00|       124|    16/3/2020 0:00:00|                          41|              HUILA|                    41001|           NEIVA|  76|                       1|   F|     Relacionado|              Casa|     Leve|               null|                null|Recuperado|           8/3/2020 0:00:00|            null|   19/3/2020 0:00:00|     4/4/2020 0:00:00|                 PCR|                 6|                   null|\n",
      "|19/3/2020 0:00:00|       126|    18/3/2020 0:00:00|                        8001|       BARRANQUILLA|                     8001|    BARRANQUILLA|  52|                       1|   F|       Importado|              Casa|     Leve|                840|ESTADOS UNIDOS DE...|Recuperado|           6/3/2020 0:00:00|            null|   19/3/2020 0:00:00|    31/3/2020 0:00:00|                 PCR|                 5|                   null|\n",
      "|20/3/2020 0:00:00|       141|    17/3/2020 0:00:00|                           5|          ANTIOQUIA|                     5001|        MEDELLIN|  62|                       1|   F|       Importado|              Casa|     Leve|                191|             CROACIA|Recuperado|          10/3/2020 0:00:00|            null|   20/3/2020 0:00:00|    25/3/2020 0:00:00|                 PCR|                 6|                   null|\n",
      "|20/3/2020 0:00:00|       153|    18/3/2020 0:00:00|                          11|             BOGOTA|                    11001|          BOGOTA|  53|                       1|   F|     Relacionado|         Fallecido|Fallecido|               null|                null| Fallecido|          18/3/2020 0:00:00|6/4/2020 0:00:00|   20/3/2020 0:00:00|                 null|                null|                 6|                   null|\n",
      "|20/3/2020 0:00:00|       164|    18/3/2020 0:00:00|                          11|             BOGOTA|                    11001|          BOGOTA|  67|                       1|   F|       Importado|              Casa|     Leve|                724|              ESPAÑA|Recuperado|          15/3/2020 0:00:00|            null|   20/3/2020 0:00:00|    30/3/2020 0:00:00|                 PCR|                 6|                   null|\n",
      "+-----------------+----------+---------------------+----------------------------+-------------------+-------------------------+----------------+----+------------------------+----+----------------+------------------+---------+-------------------+--------------------+----------+---------------------------+----------------+--------------------+---------------------+--------------------+------------------+-----------------------+\n",
      "only showing top 20 rows"
     ]
    }
   ],
   "source": [
    "#filter the multiple conditions\n",
    "df.filter(df['sexo']=='F').filter(df['Edad'] >50).show()"
   ]
  },
  {
   "cell_type": "code",
   "execution_count": 43,
   "id": "21f6fc22-1613-44e9-900f-aad8d0f8534f",
   "metadata": {
    "execution": {
     "iopub.execute_input": "2022-11-20T19:42:12.279961Z",
     "iopub.status.busy": "2022-11-20T19:42:12.279632Z",
     "iopub.status.idle": "2022-11-20T19:42:16.015053Z",
     "shell.execute_reply": "2022-11-20T19:42:16.013927Z",
     "shell.execute_reply.started": "2022-11-20T19:42:12.279933Z"
    },
    "tags": []
   },
   "outputs": [
    {
     "data": {
      "application/vnd.jupyter.widget-view+json": {
       "model_id": "4d5e758283084f1e883d13be26667f95",
       "version_major": 2,
       "version_minor": 0
      },
      "text/plain": [
       "VBox()"
      ]
     },
     "metadata": {},
     "output_type": "display_data"
    },
    {
     "data": {
      "application/vnd.jupyter.widget-view+json": {
       "model_id": "",
       "version_major": 2,
       "version_minor": 0
      },
      "text/plain": [
       "FloatProgress(value=0.0, bar_style='info', description='Progress:', layout=Layout(height='25px', width='50%'),…"
      ]
     },
     "metadata": {},
     "output_type": "display_data"
    },
    {
     "name": "stdout",
     "output_type": "stream",
     "text": [
      "+----+\n",
      "|sexo|\n",
      "+----+\n",
      "|   F|\n",
      "|   M|\n",
      "+----+"
     ]
    }
   ],
   "source": [
    "df.select('sexo').distinct().show()"
   ]
  },
  {
   "cell_type": "code",
   "execution_count": 44,
   "id": "d4349fda-c847-46e6-8c95-c7a65582b661",
   "metadata": {
    "execution": {
     "iopub.execute_input": "2022-11-20T19:42:43.346888Z",
     "iopub.status.busy": "2022-11-20T19:42:43.346578Z",
     "iopub.status.idle": "2022-11-20T19:42:46.003506Z",
     "shell.execute_reply": "2022-11-20T19:42:46.000595Z",
     "shell.execute_reply.started": "2022-11-20T19:42:43.346862Z"
    }
   },
   "outputs": [
    {
     "data": {
      "application/vnd.jupyter.widget-view+json": {
       "model_id": "0ce588fc283d4e21ba7b40b613109c18",
       "version_major": 2,
       "version_minor": 0
      },
      "text/plain": [
       "VBox()"
      ]
     },
     "metadata": {},
     "output_type": "display_data"
    },
    {
     "data": {
      "application/vnd.jupyter.widget-view+json": {
       "model_id": "",
       "version_major": 2,
       "version_minor": 0
      },
      "text/plain": [
       "FloatProgress(value=0.0, bar_style='info', description='Progress:', layout=Layout(height='25px', width='50%'),…"
      ]
     },
     "metadata": {},
     "output_type": "display_data"
    },
    {
     "name": "stdout",
     "output_type": "stream",
     "text": [
      "+----+-----+\n",
      "|sexo|count|\n",
      "+----+-----+\n",
      "|F   |45902|\n",
      "|M   |54098|\n",
      "+----+-----+"
     ]
    }
   ],
   "source": [
    "df.groupBy('sexo').count().show(5,False)"
   ]
  },
  {
   "cell_type": "code",
   "execution_count": 45,
   "id": "db4f4ed4-8bdf-4591-93e7-e6407e93df1a",
   "metadata": {
    "execution": {
     "iopub.execute_input": "2022-11-20T19:43:12.012153Z",
     "iopub.status.busy": "2022-11-20T19:43:12.011796Z",
     "iopub.status.idle": "2022-11-20T19:43:15.898948Z",
     "shell.execute_reply": "2022-11-20T19:43:15.897842Z",
     "shell.execute_reply.started": "2022-11-20T19:43:12.012125Z"
    }
   },
   "outputs": [
    {
     "data": {
      "application/vnd.jupyter.widget-view+json": {
       "model_id": "3572fdbb193947dfbeedc69150844ce3",
       "version_major": 2,
       "version_minor": 0
      },
      "text/plain": [
       "VBox()"
      ]
     },
     "metadata": {},
     "output_type": "display_data"
    },
    {
     "data": {
      "application/vnd.jupyter.widget-view+json": {
       "model_id": "",
       "version_major": 2,
       "version_minor": 0
      },
      "text/plain": [
       "FloatProgress(value=0.0, bar_style='info', description='Progress:', layout=Layout(height='25px', width='50%'),…"
      ]
     },
     "metadata": {},
     "output_type": "display_data"
    },
    {
     "name": "stdout",
     "output_type": "stream",
     "text": [
      "+----+-----------------+---------------------------------+------------------------------+-----------------+-----------------------------+------------------------+-----------------------+\n",
      "|sexo|avg(ID de caso)  |avg(Código DIVIPOLA departamento)|avg(Código DIVIPOLA municipio)|avg(Edad)        |avg(Unidad de medida de edad)|avg(Código ISO del país)|avg(Pertenencia étnica)|\n",
      "+----+-----------------+---------------------------------+------------------------------+-----------------+-----------------------------+------------------------+-----------------------+\n",
      "|F   |50242.626072938  |2619.025096945667                |24270.624765805413            |39.34373229924622|1.0066228051065313           |613.6361445783133       |5.577099037078995      |\n",
      "|M   |49865.75904839366|2642.3230063958003               |26223.9688897926              |39.26612813782395|1.0061554955820917           |581.9114688128773       |5.576786572516544      |\n",
      "+----+-----------------+---------------------------------+------------------------------+-----------------+-----------------------------+------------------------+-----------------------+"
     ]
    }
   ],
   "source": [
    "# Value counts\n",
    "df.groupBy('sexo').mean().show(5,False)"
   ]
  },
  {
   "cell_type": "code",
   "execution_count": 46,
   "id": "ad4c37cf-a5ad-4a16-a69a-8dd9f099857a",
   "metadata": {
    "execution": {
     "iopub.execute_input": "2022-11-20T19:45:18.651380Z",
     "iopub.status.busy": "2022-11-20T19:45:18.651042Z",
     "iopub.status.idle": "2022-11-20T19:45:32.707575Z",
     "shell.execute_reply": "2022-11-20T19:45:32.705744Z",
     "shell.execute_reply.started": "2022-11-20T19:45:18.651349Z"
    }
   },
   "outputs": [
    {
     "data": {
      "application/vnd.jupyter.widget-view+json": {
       "model_id": "e27e2bfe5fd34023b2faf217fb8ce4bc",
       "version_major": 2,
       "version_minor": 0
      },
      "text/plain": [
       "VBox()"
      ]
     },
     "metadata": {},
     "output_type": "display_data"
    },
    {
     "data": {
      "application/vnd.jupyter.widget-view+json": {
       "model_id": "",
       "version_major": 2,
       "version_minor": 0
      },
      "text/plain": [
       "FloatProgress(value=0.0, bar_style='info', description='Progress:', layout=Layout(height='25px', width='50%'),…"
      ]
     },
     "metadata": {},
     "output_type": "display_data"
    },
    {
     "name": "stdout",
     "output_type": "stream",
     "text": [
      "+----+---------------+---------------------------------+------------------------------+---------+-----------------------------+------------------------+-----------------------+\n",
      "|sexo|sum(ID de caso)|sum(Código DIVIPOLA departamento)|sum(Código DIVIPOLA municipio)|sum(Edad)|sum(Unidad de medida de edad)|sum(Código ISO del país)|sum(Pertenencia étnica)|\n",
      "+----+---------------+---------------------------------+------------------------------+---------+-----------------------------+------------------------+-----------------------+\n",
      "|F   |2306237022     |120218490                        |1114070218                    |1805956  |46206                        |254659                  |256000                 |\n",
      "|M   |2697637833     |142944390                        |1418664269                    |2124219  |54431                        |289210                  |301693                 |\n",
      "+----+---------------+---------------------------------+------------------------------+---------+-----------------------------+------------------------+-----------------------+"
     ]
    }
   ],
   "source": [
    "df.groupBy('sexo').sum().show(5,False)"
   ]
  },
  {
   "cell_type": "code",
   "execution_count": 47,
   "id": "03612b65-6e7c-42ec-a855-9ad10441cb7f",
   "metadata": {
    "execution": {
     "iopub.execute_input": "2022-11-20T19:46:06.749477Z",
     "iopub.status.busy": "2022-11-20T19:46:06.749062Z",
     "iopub.status.idle": "2022-11-20T19:46:09.421836Z",
     "shell.execute_reply": "2022-11-20T19:46:09.420382Z",
     "shell.execute_reply.started": "2022-11-20T19:46:06.749444Z"
    }
   },
   "outputs": [
    {
     "data": {
      "application/vnd.jupyter.widget-view+json": {
       "model_id": "b6bcf972fa264fcca19f35e3b870e041",
       "version_major": 2,
       "version_minor": 0
      },
      "text/plain": [
       "VBox()"
      ]
     },
     "metadata": {},
     "output_type": "display_data"
    },
    {
     "data": {
      "application/vnd.jupyter.widget-view+json": {
       "model_id": "",
       "version_major": 2,
       "version_minor": 0
      },
      "text/plain": [
       "FloatProgress(value=0.0, bar_style='info', description='Progress:', layout=Layout(height='25px', width='50%'),…"
      ]
     },
     "metadata": {},
     "output_type": "display_data"
    },
    {
     "name": "stdout",
     "output_type": "stream",
     "text": [
      "+----+---------------+---------------------------------+------------------------------+---------+-----------------------------+------------------------+-----------------------+\n",
      "|sexo|max(ID de caso)|max(Código DIVIPOLA departamento)|max(Código DIVIPOLA municipio)|max(Edad)|max(Unidad de medida de edad)|max(Código ISO del país)|max(Pertenencia étnica)|\n",
      "+----+---------------+---------------------------------+------------------------------+---------+-----------------------------+------------------------+-----------------------+\n",
      "|F   |100040         |47001                            |97889                         |104      |3                            |862                     |6                      |\n",
      "|M   |100039         |47001                            |99001                         |101      |3                            |862                     |6                      |\n",
      "+----+---------------+---------------------------------+------------------------------+---------+-----------------------------+------------------------+-----------------------+"
     ]
    }
   ],
   "source": [
    "df.groupBy('sexo').max().show(5,False)"
   ]
  },
  {
   "cell_type": "code",
   "execution_count": 48,
   "id": "0297cd2f-2072-4c00-84d1-95a4c5a5aaba",
   "metadata": {
    "execution": {
     "iopub.execute_input": "2022-11-20T19:50:13.095079Z",
     "iopub.status.busy": "2022-11-20T19:50:13.094724Z",
     "iopub.status.idle": "2022-11-20T19:50:26.967555Z",
     "shell.execute_reply": "2022-11-20T19:50:26.966148Z",
     "shell.execute_reply.started": "2022-11-20T19:50:13.095049Z"
    }
   },
   "outputs": [
    {
     "data": {
      "application/vnd.jupyter.widget-view+json": {
       "model_id": "230308eec6674f7b81016f1f58274a25",
       "version_major": 2,
       "version_minor": 0
      },
      "text/plain": [
       "VBox()"
      ]
     },
     "metadata": {},
     "output_type": "display_data"
    },
    {
     "data": {
      "application/vnd.jupyter.widget-view+json": {
       "model_id": "",
       "version_major": 2,
       "version_minor": 0
      },
      "text/plain": [
       "FloatProgress(value=0.0, bar_style='info', description='Progress:', layout=Layout(height='25px', width='50%'),…"
      ]
     },
     "metadata": {},
     "output_type": "display_data"
    },
    {
     "name": "stdout",
     "output_type": "stream",
     "text": [
      "+---------+-----+\n",
      "|Estado   |count|\n",
      "+---------+-----+\n",
      "|Fallecido|4663 |\n",
      "|N/A      |970  |\n",
      "|Leve     |94367|\n",
      "+---------+-----+"
     ]
    }
   ],
   "source": [
    "df.groupBy('Estado').count().show(5,False)"
   ]
  },
  {
   "cell_type": "code",
   "execution_count": 49,
   "id": "0213a336-2975-48bd-9232-640b2a78334a",
   "metadata": {
    "execution": {
     "iopub.execute_input": "2022-11-20T19:51:29.696483Z",
     "iopub.status.busy": "2022-11-20T19:51:29.696041Z",
     "iopub.status.idle": "2022-11-20T19:51:41.515978Z",
     "shell.execute_reply": "2022-11-20T19:51:41.514933Z",
     "shell.execute_reply.started": "2022-11-20T19:51:29.696448Z"
    }
   },
   "outputs": [
    {
     "data": {
      "application/vnd.jupyter.widget-view+json": {
       "model_id": "15140319d06549c5a55710fc22abd58e",
       "version_major": 2,
       "version_minor": 0
      },
      "text/plain": [
       "VBox()"
      ]
     },
     "metadata": {},
     "output_type": "display_data"
    },
    {
     "data": {
      "application/vnd.jupyter.widget-view+json": {
       "model_id": "",
       "version_major": 2,
       "version_minor": 0
      },
      "text/plain": [
       "FloatProgress(value=0.0, bar_style='info', description='Progress:', layout=Layout(height='25px', width='50%'),…"
      ]
     },
     "metadata": {},
     "output_type": "display_data"
    },
    {
     "name": "stdout",
     "output_type": "stream",
     "text": [
      "100000"
     ]
    }
   ],
   "source": [
    "df.count()"
   ]
  },
  {
   "cell_type": "code",
   "execution_count": 50,
   "id": "2d7bdea5-376d-44f2-bac8-0ed3775495f9",
   "metadata": {
    "execution": {
     "iopub.execute_input": "2022-11-20T19:52:19.547595Z",
     "iopub.status.busy": "2022-11-20T19:52:19.547219Z",
     "iopub.status.idle": "2022-11-20T19:52:19.801330Z",
     "shell.execute_reply": "2022-11-20T19:52:19.800398Z",
     "shell.execute_reply.started": "2022-11-20T19:52:19.547554Z"
    }
   },
   "outputs": [
    {
     "data": {
      "application/vnd.jupyter.widget-view+json": {
       "model_id": "8a48414cc3034338ac9d803607bcdcb7",
       "version_major": 2,
       "version_minor": 0
      },
      "text/plain": [
       "VBox()"
      ]
     },
     "metadata": {},
     "output_type": "display_data"
    },
    {
     "data": {
      "application/vnd.jupyter.widget-view+json": {
       "model_id": "",
       "version_major": 2,
       "version_minor": 0
      },
      "text/plain": [
       "FloatProgress(value=0.0, bar_style='info', description='Progress:', layout=Layout(height='25px', width='50%'),…"
      ]
     },
     "metadata": {},
     "output_type": "display_data"
    }
   ],
   "source": [
    "f_new=df.drop('sexo')"
   ]
  },
  {
   "cell_type": "code",
   "execution_count": 51,
   "id": "eab99d8f-fbbd-4db3-8615-c8f4efa74d3b",
   "metadata": {
    "execution": {
     "iopub.execute_input": "2022-11-20T19:52:36.639709Z",
     "iopub.status.busy": "2022-11-20T19:52:36.638902Z",
     "iopub.status.idle": "2022-11-20T19:52:37.601245Z",
     "shell.execute_reply": "2022-11-20T19:52:37.600304Z",
     "shell.execute_reply.started": "2022-11-20T19:52:36.639667Z"
    }
   },
   "outputs": [
    {
     "data": {
      "application/vnd.jupyter.widget-view+json": {
       "model_id": "96a5705ebb4e4e7b8e71cae2cec7b564",
       "version_major": 2,
       "version_minor": 0
      },
      "text/plain": [
       "VBox()"
      ]
     },
     "metadata": {},
     "output_type": "display_data"
    },
    {
     "data": {
      "application/vnd.jupyter.widget-view+json": {
       "model_id": "",
       "version_major": 2,
       "version_minor": 0
      },
      "text/plain": [
       "FloatProgress(value=0.0, bar_style='info', description='Progress:', layout=Layout(height='25px', width='50%'),…"
      ]
     },
     "metadata": {},
     "output_type": "display_data"
    },
    {
     "name": "stdout",
     "output_type": "stream",
     "text": [
      "+-----------------+----------+---------------------+----------------------------+-------------------+-------------------------+----------------+----+------------------------+----------------+------------------+------+-------------------+--------------------+----------+---------------------------+---------------+--------------------+---------------------+--------------------+------------------+-----------------------+\n",
      "|fecha reporte web|ID de caso|Fecha de notificación|Código DIVIPOLA departamento|Nombre departamento|Código DIVIPOLA municipio|Nombre municipio|Edad|Unidad de medida de edad|Tipo de contagio|Ubicación del caso|Estado|Código ISO del país|     Nombre del país|Recuperado|Fecha de inicio de síntomas|Fecha de muerte|Fecha de diagnóstico|Fecha de recuperación|Tipo de recuperación|Pertenencia étnica|Nombre del grupo étnico|\n",
      "+-----------------+----------+---------------------+----------------------------+-------------------+-------------------------+----------------+----+------------------------+----------------+------------------+------+-------------------+--------------------+----------+---------------------------+---------------+--------------------+---------------------+--------------------+------------------+-----------------------+\n",
      "| 6/3/2020 0:00:00|         1|     2/3/2020 0:00:00|                          11|             BOGOTA|                    11001|          BOGOTA|  19|                       1|       Importado|              Casa|  Leve|                380|              ITALIA|Recuperado|          27/2/2020 0:00:00|           null|    6/3/2020 0:00:00|    13/3/2020 0:00:00|                 PCR|                 6|                   null|\n",
      "| 9/3/2020 0:00:00|         2|     6/3/2020 0:00:00|                          76|              VALLE|                    76111|            BUGA|  34|                       1|       Importado|              Casa|  Leve|                724|              ESPAÑA|Recuperado|           4/3/2020 0:00:00|           null|    9/3/2020 0:00:00|    19/3/2020 0:00:00|                 PCR|                 5|                   null|\n",
      "| 9/3/2020 0:00:00|         3|     7/3/2020 0:00:00|                           5|          ANTIOQUIA|                     5001|        MEDELLIN|  50|                       1|       Importado|              Casa|  Leve|                724|              ESPAÑA|Recuperado|          29/2/2020 0:00:00|           null|    9/3/2020 0:00:00|    15/3/2020 0:00:00|                 PCR|                 6|                   null|\n",
      "|11/3/2020 0:00:00|         4|     9/3/2020 0:00:00|                           5|          ANTIOQUIA|                     5001|        MEDELLIN|  55|                       1|     Relacionado|              Casa|  Leve|               null|                null|Recuperado|           6/3/2020 0:00:00|           null|   11/3/2020 0:00:00|    26/3/2020 0:00:00|                 PCR|                 6|                   null|\n",
      "|11/3/2020 0:00:00|         5|     9/3/2020 0:00:00|                           5|          ANTIOQUIA|                     5001|        MEDELLIN|  25|                       1|     Relacionado|              Casa|  Leve|               null|                null|Recuperado|           8/3/2020 0:00:00|           null|   11/3/2020 0:00:00|    23/3/2020 0:00:00|                 PCR|                 6|                   null|\n",
      "|11/3/2020 0:00:00|         6|    10/3/2020 0:00:00|                           5|          ANTIOQUIA|                     5360|          ITAGUI|  27|                       1|     Relacionado|              Casa|  Leve|               null|                null|Recuperado|           6/3/2020 0:00:00|           null|   11/3/2020 0:00:00|    26/3/2020 0:00:00|                 PCR|                 6|                   null|\n",
      "|11/3/2020 0:00:00|         7|     8/3/2020 0:00:00|                       13001|          CARTAGENA|                    13001|       CARTAGENA|  85|                       1|       Importado|              Casa|  Leve|                840|ESTADOS UNIDOS DE...|Recuperado|           2/3/2020 0:00:00|           null|   11/3/2020 0:00:00|    17/3/2020 0:00:00|                 PCR|                 6|                   null|\n",
      "|11/3/2020 0:00:00|         8|     9/3/2020 0:00:00|                          11|             BOGOTA|                    11001|          BOGOTA|  22|                       1|       Importado|              Casa|  Leve|                724|              ESPAÑA|Recuperado|           6/3/2020 0:00:00|           null|   11/3/2020 0:00:00|    21/3/2020 0:00:00|                 PCR|                 6|                   null|\n",
      "|11/3/2020 0:00:00|         9|     8/3/2020 0:00:00|                          11|             BOGOTA|                    11001|          BOGOTA|  28|                       1|       Importado|              Casa|  Leve|                724|              ESPAÑA|Recuperado|           7/3/2020 0:00:00|           null|   11/3/2020 0:00:00|    23/3/2020 0:00:00|                 PCR|                 6|                   null|\n",
      "|12/3/2020 0:00:00|        10|    12/3/2020 0:00:00|                          11|             BOGOTA|                    11001|          BOGOTA|  36|                       1|       Importado|              Casa|  Leve|                724|              ESPAÑA|Recuperado|           6/3/2020 0:00:00|           null|   12/3/2020 0:00:00|    21/3/2020 0:00:00|                 PCR|                 6|                   null|\n",
      "+-----------------+----------+---------------------+----------------------------+-------------------+-------------------------+----------------+----+------------------------+----------------+------------------+------+-------------------+--------------------+----------+---------------------------+---------------+--------------------+---------------------+--------------------+------------------+-----------------------+\n",
      "only showing top 10 rows"
     ]
    }
   ],
   "source": [
    "f_new.show(10)"
   ]
  },
  {
   "cell_type": "code",
   "execution_count": null,
   "id": "f3a3dc2d-c9cc-443e-9eb1-2301e5b3fff2",
   "metadata": {
    "execution": {
     "iopub.execute_input": "2022-11-20T19:56:08.285116Z",
     "iopub.status.busy": "2022-11-20T19:56:08.284748Z",
     "iopub.status.idle": "2022-11-20T19:56:19.960538Z",
     "shell.execute_reply": "2022-11-20T19:56:19.959746Z",
     "shell.execute_reply.started": "2022-11-20T19:56:08.285085Z"
    },
    "tags": []
   },
   "outputs": [
    {
     "data": {
      "application/vnd.jupyter.widget-view+json": {
       "model_id": "",
       "version_major": 2,
       "version_minor": 0
      },
      "text/plain": [
       "VBox()"
      ]
     },
     "metadata": {},
     "output_type": "display_data"
    },
    {
     "data": {
      "application/vnd.jupyter.widget-view+json": {
       "model_id": "",
       "version_major": 2,
       "version_minor": 0
      },
      "text/plain": [
       "FloatProgress(value=0.0, bar_style='info', description='Progress:', layout=Layout(height='25px', width='50%'),…"
      ]
     },
     "metadata": {},
     "output_type": "display_data"
    },
    {
     "name": "stdout",
     "output_type": "stream",
     "text": [
      "+-----------------+----------+---------------------+----------------------------+-------------------+-------------------------+----------------+----+------------------------+----+----------------+------------------+------+-------------------+--------------------+----------+---------------------------+---------------+--------------------+---------------------+--------------------+------------------+-----------------------+\n",
      "|fecha reporte web|ID de caso|Fecha de notificación|Código DIVIPOLA departamento|Nombre departamento|Código DIVIPOLA municipio|Nombre municipio|Edad|Unidad de medida de edad|Sexo|Tipo de contagio|Ubicación del caso|Estado|Código ISO del país|     Nombre del país|Recuperado|Fecha de inicio de síntomas|Fecha de muerte|Fecha de diagnóstico|Fecha de recuperación|Tipo de recuperación|Pertenencia étnica|Nombre del grupo étnico|\n",
      "+-----------------+----------+---------------------+----------------------------+-------------------+-------------------------+----------------+----+------------------------+----+----------------+------------------+------+-------------------+--------------------+----------+---------------------------+---------------+--------------------+---------------------+--------------------+------------------+-----------------------+\n",
      "| 6/3/2020 0:00:00|         1|     2/3/2020 0:00:00|                          11|             BOGOTA|                    11001|          BOGOTA|  19|                       1|   F|       Importado|              Casa|  Leve|                380|              ITALIA|Recuperado|          27/2/2020 0:00:00|           null|    6/3/2020 0:00:00|    13/3/2020 0:00:00|                 PCR|                 6|                   null|\n",
      "| 9/3/2020 0:00:00|         2|     6/3/2020 0:00:00|                          76|              VALLE|                    76111|            BUGA|  34|                       1|   M|       Importado|              Casa|  Leve|                724|              ESPAÑA|Recuperado|           4/3/2020 0:00:00|           null|    9/3/2020 0:00:00|    19/3/2020 0:00:00|                 PCR|                 5|                   null|\n",
      "| 9/3/2020 0:00:00|         3|     7/3/2020 0:00:00|                           5|          ANTIOQUIA|                     5001|        MEDELLIN|  50|                       1|   F|       Importado|              Casa|  Leve|                724|              ESPAÑA|Recuperado|          29/2/2020 0:00:00|           null|    9/3/2020 0:00:00|    15/3/2020 0:00:00|                 PCR|                 6|                   null|\n",
      "|11/3/2020 0:00:00|         4|     9/3/2020 0:00:00|                           5|          ANTIOQUIA|                     5001|        MEDELLIN|  55|                       1|   M|     Relacionado|              Casa|  Leve|               null|                null|Recuperado|           6/3/2020 0:00:00|           null|   11/3/2020 0:00:00|    26/3/2020 0:00:00|                 PCR|                 6|                   null|\n",
      "|11/3/2020 0:00:00|         5|     9/3/2020 0:00:00|                           5|          ANTIOQUIA|                     5001|        MEDELLIN|  25|                       1|   M|     Relacionado|              Casa|  Leve|               null|                null|Recuperado|           8/3/2020 0:00:00|           null|   11/3/2020 0:00:00|    23/3/2020 0:00:00|                 PCR|                 6|                   null|\n",
      "|11/3/2020 0:00:00|         6|    10/3/2020 0:00:00|                           5|          ANTIOQUIA|                     5360|          ITAGUI|  27|                       1|   F|     Relacionado|              Casa|  Leve|               null|                null|Recuperado|           6/3/2020 0:00:00|           null|   11/3/2020 0:00:00|    26/3/2020 0:00:00|                 PCR|                 6|                   null|\n",
      "|11/3/2020 0:00:00|         7|     8/3/2020 0:00:00|                       13001|          CARTAGENA|                    13001|       CARTAGENA|  85|                       1|   F|       Importado|              Casa|  Leve|                840|ESTADOS UNIDOS DE...|Recuperado|           2/3/2020 0:00:00|           null|   11/3/2020 0:00:00|    17/3/2020 0:00:00|                 PCR|                 6|                   null|\n",
      "|11/3/2020 0:00:00|         8|     9/3/2020 0:00:00|                          11|             BOGOTA|                    11001|          BOGOTA|  22|                       1|   F|       Importado|              Casa|  Leve|                724|              ESPAÑA|Recuperado|           6/3/2020 0:00:00|           null|   11/3/2020 0:00:00|    21/3/2020 0:00:00|                 PCR|                 6|                   null|\n",
      "|11/3/2020 0:00:00|         9|     8/3/2020 0:00:00|                          11|             BOGOTA|                    11001|          BOGOTA|  28|                       1|   F|       Importado|              Casa|  Leve|                724|              ESPAÑA|Recuperado|           7/3/2020 0:00:00|           null|   11/3/2020 0:00:00|    23/3/2020 0:00:00|                 PCR|                 6|                   null|\n",
      "|12/3/2020 0:00:00|        10|    12/3/2020 0:00:00|                          11|             BOGOTA|                    11001|          BOGOTA|  36|                       1|   F|       Importado|              Casa|  Leve|                724|              ESPAÑA|Recuperado|           6/3/2020 0:00:00|           null|   12/3/2020 0:00:00|    21/3/2020 0:00:00|                 PCR|                 6|                   null|\n",
      "+-----------------+----------+---------------------+----------------------------+-------------------+-------------------------+----------------+----+------------------------+----+----------------+------------------+------+-------------------+--------------------+----------+---------------------------+---------------+--------------------+---------------------+--------------------+------------------+-----------------------+\n",
      "only showing top 10 rows"
     ]
    }
   ],
   "source": [
    "df.show(10)"
   ]
  },
  {
   "cell_type": "code",
   "execution_count": null,
   "id": "aee5c6ca-ca9f-4310-8d99-0fa8f000c2d2",
   "metadata": {},
   "outputs": [],
   "source": []
  }
 ],
 "metadata": {
  "kernelspec": {
   "display_name": "PySpark",
   "language": "",
   "name": "pysparkkernel"
  },
  "language_info": {
   "codemirror_mode": {
    "name": "python",
    "version": 2
   },
   "mimetype": "text/x-python",
   "name": "pyspark",
   "pygments_lexer": "python2"
  }
 },
 "nbformat": 4,
 "nbformat_minor": 5
}
