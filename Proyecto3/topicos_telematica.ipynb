{
  "nbformat": 4,
  "nbformat_minor": 0,
  "metadata": {
    "colab": {
      "provenance": []
    },
    "kernelspec": {
      "name": "python3",
      "display_name": "Python 3"
    },
    "language_info": {
      "name": "python"
    }
  },
  "cells": [
    {
      "cell_type": "code",
      "execution_count": 5,
      "metadata": {
        "id": "ZRSu1YTmj04L",
        "colab": {
          "base_uri": "https://localhost:8080/"
        },
        "outputId": "9dddd271-70b7-43eb-ceba-897383528249"
      },
      "outputs": [
        {
          "output_type": "stream",
          "name": "stdout",
          "text": [
            "Mounted at /content/gdrive\n"
          ]
        }
      ],
      "source": [
        "from google.colab import drive\n",
        "drive.mount('/content/gdrive')"
      ]
    },
    {
      "cell_type": "code",
      "source": [
        "!apt-get install openjdk-11-jdk-headless -qq > /dev/null\n",
        "!wget -q https://downloads.apache.org/spark/spark-3.3.1/spark-3.3.1-bin-hadoop3.tgz\n",
        "!tar xf spark-3.3.1-bin-hadoop3.tgz\n",
        "!pip install -q findspark"
      ],
      "metadata": {
        "id": "EB-hLSoOY8N4"
      },
      "execution_count": 2,
      "outputs": []
    },
    {
      "cell_type": "code",
      "source": [
        "import os\n",
        "os.environ[\"JAVA_HOME\"] = \"/usr/lib/jvm/java-11-openjdk-amd64\"\n",
        "os.environ[\"SPARK_HOME\"] = \"/content/spark-3.3.1-bin-hadoop3\""
      ],
      "metadata": {
        "id": "3dv0p6K4ZGCI"
      },
      "execution_count": 3,
      "outputs": []
    },
    {
      "cell_type": "code",
      "source": [
        "import findspark\n",
        "findspark.init()\n",
        "from pyspark.sql import SparkSession\n",
        "spark = SparkSession.builder.master(\"local[*]\").getOrCreate()\n",
        "sc = spark.sparkContext"
      ],
      "metadata": {
        "id": "quaBMaFpZItA"
      },
      "execution_count": 4,
      "outputs": []
    },
    {
      "cell_type": "code",
      "source": [
        "spark"
      ],
      "metadata": {
        "colab": {
          "base_uri": "https://localhost:8080/",
          "height": 219
        },
        "id": "d4RYJaPiZUMI",
        "outputId": "fff7863d-a25c-480c-bba0-639d8db49325"
      },
      "execution_count": 9,
      "outputs": [
        {
          "output_type": "execute_result",
          "data": {
            "text/plain": [
              "<pyspark.sql.session.SparkSession at 0x7f1c59ce01d0>"
            ],
            "text/html": [
              "\n",
              "            <div>\n",
              "                <p><b>SparkSession - in-memory</b></p>\n",
              "                \n",
              "        <div>\n",
              "            <p><b>SparkContext</b></p>\n",
              "\n",
              "            <p><a href=\"http://e3c543dc2582:4040\">Spark UI</a></p>\n",
              "\n",
              "            <dl>\n",
              "              <dt>Version</dt>\n",
              "                <dd><code>v3.3.1</code></dd>\n",
              "              <dt>Master</dt>\n",
              "                <dd><code>local[*]</code></dd>\n",
              "              <dt>AppName</dt>\n",
              "                <dd><code>pyspark-shell</code></dd>\n",
              "            </dl>\n",
              "        </div>\n",
              "        \n",
              "            </div>\n",
              "        "
            ]
          },
          "metadata": {},
          "execution_count": 9
        }
      ]
    },
    {
      "cell_type": "code",
      "source": [
        "sc"
      ],
      "metadata": {
        "colab": {
          "base_uri": "https://localhost:8080/",
          "height": 196
        },
        "id": "VeP5PYZdIeqV",
        "outputId": "0cfbbf1b-0ef4-4fb7-bc86-3df4167597f4"
      },
      "execution_count": 10,
      "outputs": [
        {
          "output_type": "execute_result",
          "data": {
            "text/plain": [
              "<SparkContext master=local[*] appName=pyspark-shell>"
            ],
            "text/html": [
              "\n",
              "        <div>\n",
              "            <p><b>SparkContext</b></p>\n",
              "\n",
              "            <p><a href=\"http://e3c543dc2582:4040\">Spark UI</a></p>\n",
              "\n",
              "            <dl>\n",
              "              <dt>Version</dt>\n",
              "                <dd><code>v3.3.1</code></dd>\n",
              "              <dt>Master</dt>\n",
              "                <dd><code>local[*]</code></dd>\n",
              "              <dt>AppName</dt>\n",
              "                <dd><code>pyspark-shell</code></dd>\n",
              "            </dl>\n",
              "        </div>\n",
              "        "
            ]
          },
          "metadata": {},
          "execution_count": 10
        }
      ]
    },
    {
      "cell_type": "code",
      "source": [
        "# Load csv Dataset \n",
        "#df=spark.read.csv('s3:///sample_data.csv',inferSchema=True,header=True)\n",
        "df=spark.read.csv('/content/drive/MyDrive/topicos_telematica/Casos_positivos_de_COVID-19_en_Colombia-100K.csv',inferSchema=True,header=True)"
      ],
      "metadata": {
        "id": "QrIS6YsEIf2n"
      },
      "execution_count": 27,
      "outputs": []
    },
    {
      "cell_type": "code",
      "source": [
        "from pyspark.sql.types import StringType,DoubleType,IntegerType"
      ],
      "metadata": {
        "id": "CvFtDdk2JMOu"
      },
      "execution_count": 18,
      "outputs": []
    },
    {
      "cell_type": "code",
      "source": [
        "df.show(2)"
      ],
      "metadata": {
        "colab": {
          "base_uri": "https://localhost:8080/"
        },
        "id": "sjClmIFwJROo",
        "outputId": "541d406b-2d3d-44ac-813b-96f97aac6180"
      },
      "execution_count": 28,
      "outputs": [
        {
          "output_type": "stream",
          "name": "stdout",
          "text": [
            "+-----------------+----------+---------------------+----------------------------+-------------------+-------------------------+----------------+----+------------------------+----+----------------+------------------+------+-------------------+---------------+----------+---------------------------+---------------+--------------------+---------------------+--------------------+------------------+-----------------------+\n",
            "|fecha reporte web|ID de caso|Fecha de notificación|Código DIVIPOLA departamento|Nombre departamento|Código DIVIPOLA municipio|Nombre municipio|Edad|Unidad de medida de edad|Sexo|Tipo de contagio|Ubicación del caso|Estado|Código ISO del país|Nombre del país|Recuperado|Fecha de inicio de síntomas|Fecha de muerte|Fecha de diagnóstico|Fecha de recuperación|Tipo de recuperación|Pertenencia étnica|Nombre del grupo étnico|\n",
            "+-----------------+----------+---------------------+----------------------------+-------------------+-------------------------+----------------+----+------------------------+----+----------------+------------------+------+-------------------+---------------+----------+---------------------------+---------------+--------------------+---------------------+--------------------+------------------+-----------------------+\n",
            "| 6/3/2020 0:00:00|         1|     2/3/2020 0:00:00|                          11|             BOGOTA|                    11001|          BOGOTA|  19|                       1|   F|       Importado|              Casa|  Leve|                380|         ITALIA|Recuperado|          27/2/2020 0:00:00|           null|    6/3/2020 0:00:00|    13/3/2020 0:00:00|                 PCR|                 6|                   null|\n",
            "| 9/3/2020 0:00:00|         2|     6/3/2020 0:00:00|                          76|              VALLE|                    76111|            BUGA|  34|                       1|   M|       Importado|              Casa|  Leve|                724|         ESPAÑA|Recuperado|           4/3/2020 0:00:00|           null|    9/3/2020 0:00:00|    19/3/2020 0:00:00|                 PCR|                 5|                   null|\n",
            "+-----------------+----------+---------------------+----------------------------+-------------------+-------------------------+----------------+----+------------------------+----+----------------+------------------+------+-------------------+---------------+----------+---------------------------+---------------+--------------------+---------------------+--------------------+------------------+-----------------------+\n",
            "only showing top 2 rows\n",
            "\n"
          ]
        }
      ]
    },
    {
      "cell_type": "code",
      "source": [
        "df.groupBy('Nombre departamento').count().orderBy('count',ascending=False).show(10,False)"
      ],
      "metadata": {
        "colab": {
          "base_uri": "https://localhost:8080/"
        },
        "id": "pk3ruLipJCZ7",
        "outputId": "35e95986-29df-4635-f462-09c77bd09f49"
      },
      "execution_count": 19,
      "outputs": [
        {
          "output_type": "stream",
          "name": "stdout",
          "text": [
            "+-------------------+-----+\n",
            "|Nombre departamento|count|\n",
            "+-------------------+-----+\n",
            "|BOGOTA             |30016|\n",
            "|BARRANQUILLA       |13065|\n",
            "|ATLANTICO          |10994|\n",
            "|VALLE              |10404|\n",
            "|CARTAGENA          |8333 |\n",
            "|ANTIOQUIA          |4554 |\n",
            "|NARIÑO             |3520 |\n",
            "|CUNDINAMARCA       |2827 |\n",
            "|AMAZONAS           |2317 |\n",
            "|CHOCO              |1636 |\n",
            "+-------------------+-----+\n",
            "only showing top 10 rows\n",
            "\n"
          ]
        }
      ]
    },
    {
      "cell_type": "code",
      "source": [
        "# Value counts\n",
        "df.groupBy('Nombre municipio').count().orderBy('count',ascending=False).show(10,False)"
      ],
      "metadata": {
        "colab": {
          "base_uri": "https://localhost:8080/"
        },
        "id": "lqgZDNekKdk7",
        "outputId": "0c2ae333-7cf0-49ae-ecbd-ea4fdf8232b4"
      },
      "execution_count": 20,
      "outputs": [
        {
          "output_type": "stream",
          "name": "stdout",
          "text": [
            "+----------------+-----+\n",
            "|Nombre municipio|count|\n",
            "+----------------+-----+\n",
            "|BOGOTA          |30016|\n",
            "|BARRANQUILLA    |13065|\n",
            "|CARTAGENA       |8333 |\n",
            "|CALI            |7747 |\n",
            "|SOLEDAD         |6233 |\n",
            "|LETICIA         |2194 |\n",
            "|MEDELLIN        |2137 |\n",
            "|TUMACO          |1501 |\n",
            "|BUENAVENTURA    |1453 |\n",
            "|QUIBDO          |1367 |\n",
            "+----------------+-----+\n",
            "only showing top 10 rows\n",
            "\n"
          ]
        }
      ]
    },
    {
      "cell_type": "code",
      "source": [
        "# Value counts\n",
        "df.groupBy('Fecha de diagnóstico').count().orderBy('count',ascending=False).show(10,False)"
      ],
      "metadata": {
        "colab": {
          "base_uri": "https://localhost:8080/"
        },
        "id": "6ejpYw7jKpkE",
        "outputId": "cb6ba118-63d0-4bb9-90f1-8df0f0852aa1"
      },
      "execution_count": 21,
      "outputs": [
        {
          "output_type": "stream",
          "name": "stdout",
          "text": [
            "+--------------------+-----+\n",
            "|Fecha de diagnóstico|count|\n",
            "+--------------------+-----+\n",
            "|26/6/2020 0:00:00   |4390 |\n",
            "|27/6/2020 0:00:00   |4019 |\n",
            "|28/6/2020 0:00:00   |3580 |\n",
            "|25/6/2020 0:00:00   |3381 |\n",
            "|19/6/2020 0:00:00   |3053 |\n",
            "|18/6/2020 0:00:00   |3040 |\n",
            "|23/6/2020 0:00:00   |3031 |\n",
            "|22/6/2020 0:00:00   |2938 |\n",
            "|21/6/2020 0:00:00   |2781 |\n",
            "|24/6/2020 0:00:00   |2564 |\n",
            "+--------------------+-----+\n",
            "only showing top 10 rows\n",
            "\n"
          ]
        }
      ]
    },
    {
      "cell_type": "code",
      "source": [
        "# Value counts\n",
        "df.groupBy('Edad').count().orderBy('count',ascending=False).show(50,False)"
      ],
      "metadata": {
        "colab": {
          "base_uri": "https://localhost:8080/"
        },
        "id": "o9nali67Kt4D",
        "outputId": "daff5ef4-97d5-455f-a6f6-f7a772580d5d"
      },
      "execution_count": 22,
      "outputs": [
        {
          "output_type": "stream",
          "name": "stdout",
          "text": [
            "+----+-----+\n",
            "|Edad|count|\n",
            "+----+-----+\n",
            "|30  |2735 |\n",
            "|29  |2611 |\n",
            "|31  |2569 |\n",
            "|28  |2540 |\n",
            "|27  |2494 |\n",
            "|26  |2436 |\n",
            "|33  |2371 |\n",
            "|32  |2362 |\n",
            "|25  |2335 |\n",
            "|34  |2310 |\n",
            "|35  |2292 |\n",
            "|24  |2214 |\n",
            "|36  |2175 |\n",
            "|37  |2132 |\n",
            "|38  |2098 |\n",
            "|40  |2050 |\n",
            "|23  |2041 |\n",
            "|39  |1985 |\n",
            "|22  |1879 |\n",
            "|41  |1783 |\n",
            "|21  |1713 |\n",
            "|20  |1674 |\n",
            "|43  |1654 |\n",
            "|42  |1620 |\n",
            "|19  |1567 |\n",
            "|45  |1492 |\n",
            "|44  |1488 |\n",
            "|48  |1475 |\n",
            "|49  |1467 |\n",
            "|50  |1423 |\n",
            "|52  |1402 |\n",
            "|47  |1401 |\n",
            "|46  |1398 |\n",
            "|51  |1327 |\n",
            "|56  |1325 |\n",
            "|53  |1307 |\n",
            "|55  |1291 |\n",
            "|54  |1290 |\n",
            "|57  |1252 |\n",
            "|18  |1160 |\n",
            "|58  |1155 |\n",
            "|59  |1085 |\n",
            "|60  |1069 |\n",
            "|61  |965  |\n",
            "|62  |932  |\n",
            "|63  |867  |\n",
            "|64  |800  |\n",
            "|65  |736  |\n",
            "|66  |701  |\n",
            "|67  |688  |\n",
            "+----+-----+\n",
            "only showing top 50 rows\n",
            "\n"
          ]
        }
      ]
    },
    {
      "cell_type": "code",
      "source": [
        "df.groupBy('Estado').count().show(5,False)"
      ],
      "metadata": {
        "colab": {
          "base_uri": "https://localhost:8080/"
        },
        "id": "BcqexuMOKwAY",
        "outputId": "1938641a-bc34-4643-f974-a2ef4c8fc651"
      },
      "execution_count": 23,
      "outputs": [
        {
          "output_type": "stream",
          "name": "stdout",
          "text": [
            "+---------+-----+\n",
            "|Estado   |count|\n",
            "+---------+-----+\n",
            "|Fallecido|4663 |\n",
            "|N/A      |970  |\n",
            "|Leve     |94367|\n",
            "+---------+-----+\n",
            "\n"
          ]
        }
      ]
    },
    {
      "cell_type": "code",
      "source": [
        "df.select('Nombre del grupo étnico').distinct().show()"
      ],
      "metadata": {
        "colab": {
          "base_uri": "https://localhost:8080/"
        },
        "id": "dKeS5RdnK3zo",
        "outputId": "0b8dada0-260b-45b3-e693-d890d298095c"
      },
      "execution_count": 24,
      "outputs": [
        {
          "output_type": "stream",
          "name": "stdout",
          "text": [
            "+-----------------------+\n",
            "|Nombre del grupo étnico|\n",
            "+-----------------------+\n",
            "|        WOUNAAN_WAUNANA|\n",
            "|            POR DEFINIR|\n",
            "|             PIRATAPUYO|\n",
            "|                 YUKUNA|\n",
            "|                 ANDOKE|\n",
            "|                 MATAPI|\n",
            "|                   U'WA|\n",
            "|            DUJOS_TAMAS|\n",
            "|        SIKUANI_GUAHIBO|\n",
            "|                   INGA|\n",
            "|                  PASTO|\n",
            "|               MACAHUAN|\n",
            "|                  PIJAO|\n",
            "|                   null|\n",
            "|                 DESANO|\n",
            "|           MURUI_UITOTO|\n",
            "|              POLINDARA|\n",
            "|           EMBERA CHAMI|\n",
            "|              CURRIPACO|\n",
            "|                  WAYUU|\n",
            "+-----------------------+\n",
            "only showing top 20 rows\n",
            "\n"
          ]
        }
      ]
    }
  ]
}