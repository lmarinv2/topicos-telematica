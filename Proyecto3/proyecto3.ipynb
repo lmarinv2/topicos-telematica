{
 "cells": [
  {
   "cell_type": "code",
   "execution_count": 1,
   "id": "d243d419-2eb3-4a31-9658-85a8d196cd66",
   "metadata": {
    "execution": {
     "iopub.execute_input": "2022-11-20T21:00:38.397895Z",
     "iopub.status.busy": "2022-11-20T21:00:38.397518Z",
     "iopub.status.idle": "2022-11-20T21:00:38.572872Z",
     "shell.execute_reply": "2022-11-20T21:00:38.571864Z",
     "shell.execute_reply.started": "2022-11-20T21:00:38.397835Z"
    }
   },
   "outputs": [
    {
     "data": {
      "text/html": [
       "Current session configs: <tt>{'conf': {'spark.pyspark.python': 'python3', 'spark.pyspark.virtualenv.enabled': 'true', 'spark.pyspark.virtualenv.type': 'native', 'spark.pyspark.virtualenv.bin.path': '/usr/bin/virtualenv'}, 'kind': 'pyspark'}</tt><br>"
      ],
      "text/plain": [
       "<IPython.core.display.HTML object>"
      ]
     },
     "metadata": {},
     "output_type": "display_data"
    },
    {
     "data": {
      "text/html": [
       "<table>\n",
       "<tr><th>ID</th><th>YARN Application ID</th><th>Kind</th><th>State</th><th>Spark UI</th><th>Driver log</th><th>Current session?</th></tr><tr><td>6</td><td>application_1668970072023_0007</td><td>pyspark</td><td>idle</td><td><a target=\"_blank\" href=\"http://ip-172-31-74-239.ec2.internal:20888/proxy/application_1668970072023_0007/\">Link</a></td><td><a target=\"_blank\" href=\"http://ip-172-31-67-89.ec2.internal:8042/node/containerlogs/container_1668970072023_0007_01_000001/livy\">Link</a></td><td></td></tr></table>"
      ],
      "text/plain": [
       "<IPython.core.display.HTML object>"
      ]
     },
     "metadata": {},
     "output_type": "display_data"
    }
   ],
   "source": [
    "%%configure -f\n",
    "{\n",
    "    \"conf\": {\n",
    "        \"spark.pyspark.python\": \"python3\",\n",
    "        \"spark.pyspark.virtualenv.enabled\": \"true\",\n",
    "        \"spark.pyspark.virtualenv.type\":\"native\",\n",
    "        \"spark.pyspark.virtualenv.bin.path\":\"/usr/bin/virtualenv\"\n",
    "    }\n",
    "}"
   ]
  },
  {
   "cell_type": "code",
   "execution_count": 4,
   "id": "93f55530-6bbc-4acd-852a-861028212dc1",
   "metadata": {
    "execution": {
     "iopub.execute_input": "2022-11-20T21:03:44.019555Z",
     "iopub.status.busy": "2022-11-20T21:03:44.019003Z",
     "iopub.status.idle": "2022-11-20T21:03:44.236750Z",
     "shell.execute_reply": "2022-11-20T21:03:44.236066Z",
     "shell.execute_reply.started": "2022-11-20T21:03:44.019450Z"
    },
    "tags": []
   },
   "outputs": [
    {
     "data": {
      "application/vnd.jupyter.widget-view+json": {
       "model_id": "28cbb51b93904b5bbe95f092ddcdbe78",
       "version_major": 2,
       "version_minor": 0
      },
      "text/plain": [
       "VBox()"
      ]
     },
     "metadata": {},
     "output_type": "display_data"
    },
    {
     "data": {
      "application/vnd.jupyter.widget-view+json": {
       "model_id": "",
       "version_major": 2,
       "version_minor": 0
      },
      "text/plain": [
       "FloatProgress(value=0.0, bar_style='info', description='Progress:', layout=Layout(height='25px', width='50%'),…"
      ]
     },
     "metadata": {},
     "output_type": "display_data"
    }
   ],
   "source": [
    "#import SparkSession\n",
    "from pyspark.sql import SparkSession\n",
    "import pyspark.sql.functions as F\n",
    "from pyspark.sql.functions import col\n",
    "from pyspark.sql.functions import desc\n",
    "import functools"
   ]
  },
  {
   "cell_type": "code",
   "execution_count": 5,
   "id": "6fa989df-8ee1-41ba-a102-038c57c69f9e",
   "metadata": {
    "execution": {
     "iopub.execute_input": "2022-11-20T21:03:47.059520Z",
     "iopub.status.busy": "2022-11-20T21:03:47.059180Z",
     "iopub.status.idle": "2022-11-20T21:03:47.207791Z",
     "shell.execute_reply": "2022-11-20T21:03:47.207096Z",
     "shell.execute_reply.started": "2022-11-20T21:03:47.059489Z"
    },
    "tags": []
   },
   "outputs": [
    {
     "data": {
      "application/vnd.jupyter.widget-view+json": {
       "model_id": "c43cdeafc6904553b9f85985db097a95",
       "version_major": 2,
       "version_minor": 0
      },
      "text/plain": [
       "VBox()"
      ]
     },
     "metadata": {},
     "output_type": "display_data"
    },
    {
     "data": {
      "application/vnd.jupyter.widget-view+json": {
       "model_id": "",
       "version_major": 2,
       "version_minor": 0
      },
      "text/plain": [
       "FloatProgress(value=0.0, bar_style='info', description='Progress:', layout=Layout(height='25px', width='50%'),…"
      ]
     },
     "metadata": {},
     "output_type": "display_data"
    }
   ],
   "source": [
    "#create spar session object\n",
    "spark=SparkSession.builder.appName('p3-laura_data_processing').getOrCreate()"
   ]
  },
  {
   "cell_type": "code",
   "execution_count": 7,
   "id": "d47ad3ab-0f15-4601-a4b1-301476855552",
   "metadata": {
    "execution": {
     "iopub.execute_input": "2022-11-20T21:05:40.892040Z",
     "iopub.status.busy": "2022-11-20T21:05:40.891738Z",
     "iopub.status.idle": "2022-11-20T21:05:58.783541Z",
     "shell.execute_reply": "2022-11-20T21:05:58.782864Z",
     "shell.execute_reply.started": "2022-11-20T21:05:40.892013Z"
    }
   },
   "outputs": [
    {
     "data": {
      "application/vnd.jupyter.widget-view+json": {
       "model_id": "f57e36a0089e4312a275bfefbb58b324",
       "version_major": 2,
       "version_minor": 0
      },
      "text/plain": [
       "VBox()"
      ]
     },
     "metadata": {},
     "output_type": "display_data"
    },
    {
     "data": {
      "application/vnd.jupyter.widget-view+json": {
       "model_id": "",
       "version_major": 2,
       "version_minor": 0
      },
      "text/plain": [
       "FloatProgress(value=0.0, bar_style='info', description='Progress:', layout=Layout(height='25px', width='50%'),…"
      ]
     },
     "metadata": {},
     "output_type": "display_data"
    }
   ],
   "source": [
    "# Load csv Dataset \n",
    "df=spark.read.csv('s3://lauram/datasets/covid19/Casos_positivos_de_COVID-19_en_Colombia-100K.csv',inferSchema=True,header=True)"
   ]
  },
  {
   "cell_type": "code",
   "execution_count": 14,
   "id": "0c51990c-1854-46ff-91d4-5ade7be241df",
   "metadata": {
    "execution": {
     "iopub.execute_input": "2022-11-20T21:20:41.722539Z",
     "iopub.status.busy": "2022-11-20T21:20:41.721946Z",
     "iopub.status.idle": "2022-11-20T21:20:41.936550Z",
     "shell.execute_reply": "2022-11-20T21:20:41.935283Z",
     "shell.execute_reply.started": "2022-11-20T21:20:41.722501Z"
    },
    "tags": []
   },
   "outputs": [
    {
     "data": {
      "application/vnd.jupyter.widget-view+json": {
       "model_id": "68abb55869f34965867c1f8e5c3c3265",
       "version_major": 2,
       "version_minor": 0
      },
      "text/plain": [
       "VBox()"
      ]
     },
     "metadata": {},
     "output_type": "display_data"
    },
    {
     "data": {
      "application/vnd.jupyter.widget-view+json": {
       "model_id": "",
       "version_major": 2,
       "version_minor": 0
      },
      "text/plain": [
       "FloatProgress(value=0.0, bar_style='info', description='Progress:', layout=Layout(height='25px', width='50%'),…"
      ]
     },
     "metadata": {},
     "output_type": "display_data"
    }
   ],
   "source": [
    "from pyspark.sql.types import StringType,DoubleType,IntegerType"
   ]
  },
  {
   "cell_type": "code",
   "execution_count": 15,
   "id": "b80014bc-2e96-40c8-becc-d30ebeb29023",
   "metadata": {
    "execution": {
     "iopub.execute_input": "2022-11-20T21:22:24.957661Z",
     "iopub.status.busy": "2022-11-20T21:22:24.957298Z",
     "iopub.status.idle": "2022-11-20T21:22:36.605987Z",
     "shell.execute_reply": "2022-11-20T21:22:36.605269Z",
     "shell.execute_reply.started": "2022-11-20T21:22:24.957629Z"
    }
   },
   "outputs": [
    {
     "data": {
      "application/vnd.jupyter.widget-view+json": {
       "model_id": "a6abb68f353242e7b7a948a38b2dc7bf",
       "version_major": 2,
       "version_minor": 0
      },
      "text/plain": [
       "VBox()"
      ]
     },
     "metadata": {},
     "output_type": "display_data"
    },
    {
     "data": {
      "application/vnd.jupyter.widget-view+json": {
       "model_id": "",
       "version_major": 2,
       "version_minor": 0
      },
      "text/plain": [
       "FloatProgress(value=0.0, bar_style='info', description='Progress:', layout=Layout(height='25px', width='50%'),…"
      ]
     },
     "metadata": {},
     "output_type": "display_data"
    },
    {
     "name": "stdout",
     "output_type": "stream",
     "text": [
      "+-----------------+----------+---------------------+----------------------------+-------------------+-------------------------+----------------+----+------------------------+----+----------------+------------------+------+-------------------+---------------+----------+---------------------------+---------------+--------------------+---------------------+--------------------+------------------+-----------------------+\n",
      "|fecha reporte web|ID de caso|Fecha de notificación|Código DIVIPOLA departamento|Nombre departamento|Código DIVIPOLA municipio|Nombre municipio|Edad|Unidad de medida de edad|Sexo|Tipo de contagio|Ubicación del caso|Estado|Código ISO del país|Nombre del país|Recuperado|Fecha de inicio de síntomas|Fecha de muerte|Fecha de diagnóstico|Fecha de recuperación|Tipo de recuperación|Pertenencia étnica|Nombre del grupo étnico|\n",
      "+-----------------+----------+---------------------+----------------------------+-------------------+-------------------------+----------------+----+------------------------+----+----------------+------------------+------+-------------------+---------------+----------+---------------------------+---------------+--------------------+---------------------+--------------------+------------------+-----------------------+\n",
      "| 6/3/2020 0:00:00|         1|     2/3/2020 0:00:00|                          11|             BOGOTA|                    11001|          BOGOTA|  19|                       1|   F|       Importado|              Casa|  Leve|                380|         ITALIA|Recuperado|          27/2/2020 0:00:00|           null|    6/3/2020 0:00:00|    13/3/2020 0:00:00|                 PCR|                 6|                   null|\n",
      "| 9/3/2020 0:00:00|         2|     6/3/2020 0:00:00|                          76|              VALLE|                    76111|            BUGA|  34|                       1|   M|       Importado|              Casa|  Leve|                724|         ESPAÑA|Recuperado|           4/3/2020 0:00:00|           null|    9/3/2020 0:00:00|    19/3/2020 0:00:00|                 PCR|                 5|                   null|\n",
      "+-----------------+----------+---------------------+----------------------------+-------------------+-------------------------+----------------+----+------------------------+----+----------------+------------------+------+-------------------+---------------+----------+---------------------------+---------------+--------------------+---------------------+--------------------+------------------+-----------------------+\n",
      "only showing top 2 rows"
     ]
    }
   ],
   "source": [
    "df.show(2)"
   ]
  },
  {
   "cell_type": "markdown",
   "id": "361370a0",
   "metadata": {},
   "source": [
    "Los 10 departamentos con más casos de covid en Colombia ordenados de mayor a menor"
   ]
  },
  {
   "cell_type": "code",
   "execution_count": 17,
   "id": "86a23362-4667-4467-80e9-0e54f01e703b",
   "metadata": {
    "execution": {
     "iopub.execute_input": "2022-11-20T21:23:10.366870Z",
     "iopub.status.busy": "2022-11-20T21:23:10.366329Z",
     "iopub.status.idle": "2022-11-20T21:23:12.948613Z",
     "shell.execute_reply": "2022-11-20T21:23:12.947290Z",
     "shell.execute_reply.started": "2022-11-20T21:23:10.366713Z"
    },
    "tags": []
   },
   "outputs": [
    {
     "data": {
      "application/vnd.jupyter.widget-view+json": {
       "model_id": "f2043d72a4c74dca82dd40499c741d47",
       "version_major": 2,
       "version_minor": 0
      },
      "text/plain": [
       "VBox()"
      ]
     },
     "metadata": {},
     "output_type": "display_data"
    },
    {
     "data": {
      "application/vnd.jupyter.widget-view+json": {
       "model_id": "",
       "version_major": 2,
       "version_minor": 0
      },
      "text/plain": [
       "FloatProgress(value=0.0, bar_style='info', description='Progress:', layout=Layout(height='25px', width='50%'),…"
      ]
     },
     "metadata": {},
     "output_type": "display_data"
    },
    {
     "name": "stdout",
     "output_type": "stream",
     "text": [
      "+-------------------+-----+\n",
      "|Nombre departamento|count|\n",
      "+-------------------+-----+\n",
      "|BOGOTA             |30016|\n",
      "|BARRANQUILLA       |13065|\n",
      "|ATLANTICO          |10994|\n",
      "|VALLE              |10404|\n",
      "|CARTAGENA          |8333 |\n",
      "|ANTIOQUIA          |4554 |\n",
      "|NARIÑO             |3520 |\n",
      "|CUNDINAMARCA       |2827 |\n",
      "|AMAZONAS           |2317 |\n",
      "|CHOCO              |1636 |\n",
      "+-------------------+-----+\n",
      "only showing top 10 rows"
     ]
    }
   ],
   "source": [
    "# Value counts\n",
    "df.groupBy('Nombre departamento').count().orderBy('count',ascending=False).show(10,False)"
   ]
  },
  {
   "cell_type": "markdown",
   "id": "8b3e8207",
   "metadata": {},
   "source": [
    "Las 10 ciudades con más casos de covid en Colombia ordenados de mayor a menor"
   ]
  },
  {
   "cell_type": "code",
   "execution_count": 18,
   "id": "7d521dc4-ebab-492e-a13e-2e7b78ae95b8",
   "metadata": {
    "execution": {
     "iopub.execute_input": "2022-11-20T21:24:45.707123Z",
     "iopub.status.busy": "2022-11-20T21:24:45.706675Z",
     "iopub.status.idle": "2022-11-20T21:25:01.588888Z",
     "shell.execute_reply": "2022-11-20T21:25:01.586866Z",
     "shell.execute_reply.started": "2022-11-20T21:24:45.707084Z"
    }
   },
   "outputs": [
    {
     "data": {
      "application/vnd.jupyter.widget-view+json": {
       "model_id": "2daa39b9e85848099e7ef254549a0bbd",
       "version_major": 2,
       "version_minor": 0
      },
      "text/plain": [
       "VBox()"
      ]
     },
     "metadata": {},
     "output_type": "display_data"
    },
    {
     "data": {
      "application/vnd.jupyter.widget-view+json": {
       "model_id": "",
       "version_major": 2,
       "version_minor": 0
      },
      "text/plain": [
       "FloatProgress(value=0.0, bar_style='info', description='Progress:', layout=Layout(height='25px', width='50%'),…"
      ]
     },
     "metadata": {},
     "output_type": "display_data"
    },
    {
     "name": "stdout",
     "output_type": "stream",
     "text": [
      "+----------------+-----+\n",
      "|Nombre municipio|count|\n",
      "+----------------+-----+\n",
      "|BOGOTA          |30016|\n",
      "|BARRANQUILLA    |13065|\n",
      "|CARTAGENA       |8333 |\n",
      "|CALI            |7747 |\n",
      "|SOLEDAD         |6233 |\n",
      "|LETICIA         |2194 |\n",
      "|MEDELLIN        |2137 |\n",
      "|TUMACO          |1501 |\n",
      "|BUENAVENTURA    |1453 |\n",
      "|QUIBDO          |1367 |\n",
      "+----------------+-----+\n",
      "only showing top 10 rows"
     ]
    }
   ],
   "source": [
    "# Value counts\n",
    "df.groupBy('Nombre municipio').count().orderBy('count',ascending=False).show(10,False)"
   ]
  },
  {
   "cell_type": "markdown",
   "id": "359c2cc3",
   "metadata": {},
   "source": [
    "Los 10 días con más casos de covid en Colombia ordenados de mayor a menor"
   ]
  },
  {
   "cell_type": "code",
   "execution_count": 22,
   "id": "4a7c2e21-ab92-4d58-8699-1f42e74350b6",
   "metadata": {
    "execution": {
     "iopub.execute_input": "2022-11-20T21:27:31.182289Z",
     "iopub.status.busy": "2022-11-20T21:27:31.181433Z",
     "iopub.status.idle": "2022-11-20T21:27:47.104680Z",
     "shell.execute_reply": "2022-11-20T21:27:47.102043Z",
     "shell.execute_reply.started": "2022-11-20T21:27:31.181855Z"
    },
    "tags": []
   },
   "outputs": [
    {
     "data": {
      "application/vnd.jupyter.widget-view+json": {
       "model_id": "c6f0e1cf821b4b20aae210451c4a7704",
       "version_major": 2,
       "version_minor": 0
      },
      "text/plain": [
       "VBox()"
      ]
     },
     "metadata": {},
     "output_type": "display_data"
    },
    {
     "data": {
      "application/vnd.jupyter.widget-view+json": {
       "model_id": "",
       "version_major": 2,
       "version_minor": 0
      },
      "text/plain": [
       "FloatProgress(value=0.0, bar_style='info', description='Progress:', layout=Layout(height='25px', width='50%'),…"
      ]
     },
     "metadata": {},
     "output_type": "display_data"
    },
    {
     "name": "stdout",
     "output_type": "stream",
     "text": [
      "+--------------------+-----+\n",
      "|Fecha de diagnóstico|count|\n",
      "+--------------------+-----+\n",
      "|26/6/2020 0:00:00   |4390 |\n",
      "|27/6/2020 0:00:00   |4019 |\n",
      "|28/6/2020 0:00:00   |3580 |\n",
      "|25/6/2020 0:00:00   |3381 |\n",
      "|19/6/2020 0:00:00   |3053 |\n",
      "|18/6/2020 0:00:00   |3040 |\n",
      "|23/6/2020 0:00:00   |3031 |\n",
      "|22/6/2020 0:00:00   |2938 |\n",
      "|21/6/2020 0:00:00   |2781 |\n",
      "|24/6/2020 0:00:00   |2564 |\n",
      "+--------------------+-----+\n",
      "only showing top 10 rows"
     ]
    }
   ],
   "source": [
    "# Value counts\n",
    "df.groupBy('Fecha de diagnóstico').count().orderBy('count',ascending=False).show(10,False)"
   ]
  },
  {
   "cell_type": "markdown",
   "id": "6fbe9aee",
   "metadata": {},
   "source": [
    "Distribución de casos por edades de covid en Colombi"
   ]
  },
  {
   "cell_type": "code",
   "execution_count": 26,
   "id": "0a813f5d-2c99-4a23-9a31-5291acd80ba2",
   "metadata": {
    "execution": {
     "iopub.execute_input": "2022-11-20T21:28:57.581927Z",
     "iopub.status.busy": "2022-11-20T21:28:57.581570Z",
     "iopub.status.idle": "2022-11-20T21:28:59.032169Z",
     "shell.execute_reply": "2022-11-20T21:28:59.031085Z",
     "shell.execute_reply.started": "2022-11-20T21:28:57.581884Z"
    },
    "tags": []
   },
   "outputs": [
    {
     "data": {
      "application/vnd.jupyter.widget-view+json": {
       "model_id": "6353d38ce7994f4185620c325a490b16",
       "version_major": 2,
       "version_minor": 0
      },
      "text/plain": [
       "VBox()"
      ]
     },
     "metadata": {},
     "output_type": "display_data"
    },
    {
     "data": {
      "application/vnd.jupyter.widget-view+json": {
       "model_id": "",
       "version_major": 2,
       "version_minor": 0
      },
      "text/plain": [
       "FloatProgress(value=0.0, bar_style='info', description='Progress:', layout=Layout(height='25px', width='50%'),…"
      ]
     },
     "metadata": {},
     "output_type": "display_data"
    },
    {
     "name": "stdout",
     "output_type": "stream",
     "text": [
      "+----+-----+\n",
      "|Edad|count|\n",
      "+----+-----+\n",
      "|30  |2735 |\n",
      "|29  |2611 |\n",
      "|31  |2569 |\n",
      "|28  |2540 |\n",
      "|27  |2494 |\n",
      "|26  |2436 |\n",
      "|33  |2371 |\n",
      "|32  |2362 |\n",
      "|25  |2335 |\n",
      "|34  |2310 |\n",
      "|35  |2292 |\n",
      "|24  |2214 |\n",
      "|36  |2175 |\n",
      "|37  |2132 |\n",
      "|38  |2098 |\n",
      "|40  |2050 |\n",
      "|23  |2041 |\n",
      "|39  |1985 |\n",
      "|22  |1879 |\n",
      "|41  |1783 |\n",
      "|21  |1713 |\n",
      "|20  |1674 |\n",
      "|43  |1654 |\n",
      "|42  |1620 |\n",
      "|19  |1567 |\n",
      "|45  |1492 |\n",
      "|44  |1488 |\n",
      "|48  |1475 |\n",
      "|49  |1467 |\n",
      "|50  |1423 |\n",
      "|52  |1402 |\n",
      "|47  |1401 |\n",
      "|46  |1398 |\n",
      "|51  |1327 |\n",
      "|56  |1325 |\n",
      "|53  |1307 |\n",
      "|55  |1291 |\n",
      "|54  |1290 |\n",
      "|57  |1252 |\n",
      "|18  |1160 |\n",
      "|58  |1155 |\n",
      "|59  |1085 |\n",
      "|60  |1069 |\n",
      "|61  |965  |\n",
      "|62  |932  |\n",
      "|63  |867  |\n",
      "|64  |800  |\n",
      "|65  |736  |\n",
      "|66  |701  |\n",
      "|67  |688  |\n",
      "+----+-----+\n",
      "only showing top 50 rows"
     ]
    }
   ],
   "source": [
    "# Value counts\n",
    "df.groupBy('Edad').count().orderBy('count',ascending=False).show(50,False)"
   ]
  },
  {
   "cell_type": "markdown",
   "id": "0f3e0ea6",
   "metadata": {},
   "source": [
    "Cantidad de personas en cada estado"
   ]
  },
  {
   "cell_type": "code",
   "execution_count": 28,
   "id": "89f367dd-e073-4054-a222-4fded8171e68",
   "metadata": {
    "execution": {
     "iopub.execute_input": "2022-11-20T21:31:49.603965Z",
     "iopub.status.busy": "2022-11-20T21:31:49.603397Z",
     "iopub.status.idle": "2022-11-20T21:32:03.395437Z",
     "shell.execute_reply": "2022-11-20T21:32:03.394421Z",
     "shell.execute_reply.started": "2022-11-20T21:31:49.603917Z"
    },
    "tags": []
   },
   "outputs": [
    {
     "data": {
      "application/vnd.jupyter.widget-view+json": {
       "model_id": "f1e438921a494f7190c3004444ffb67b",
       "version_major": 2,
       "version_minor": 0
      },
      "text/plain": [
       "VBox()"
      ]
     },
     "metadata": {},
     "output_type": "display_data"
    },
    {
     "data": {
      "application/vnd.jupyter.widget-view+json": {
       "model_id": "",
       "version_major": 2,
       "version_minor": 0
      },
      "text/plain": [
       "FloatProgress(value=0.0, bar_style='info', description='Progress:', layout=Layout(height='25px', width='50%'),…"
      ]
     },
     "metadata": {},
     "output_type": "display_data"
    },
    {
     "name": "stdout",
     "output_type": "stream",
     "text": [
      "+---------+-----+\n",
      "|Estado   |count|\n",
      "+---------+-----+\n",
      "|Fallecido|4663 |\n",
      "|N/A      |970  |\n",
      "|Leve     |94367|\n",
      "+---------+-----+"
     ]
    }
   ],
   "source": [
    "df.groupBy('Estado').count().show(5,False)"
   ]
  },
  {
   "cell_type": "markdown",
   "id": "2df1d357",
   "metadata": {},
   "source": [
    "Diferentes grupos etnicos"
   ]
  },
  {
   "cell_type": "code",
   "execution_count": 30,
   "id": "b6be5d38-7d07-488a-8a6c-61e629a25a8a",
   "metadata": {
    "execution": {
     "iopub.execute_input": "2022-11-20T21:34:07.956821Z",
     "iopub.status.busy": "2022-11-20T21:34:07.956500Z",
     "iopub.status.idle": "2022-11-20T21:34:19.754950Z",
     "shell.execute_reply": "2022-11-20T21:34:19.754045Z",
     "shell.execute_reply.started": "2022-11-20T21:34:07.956792Z"
    }
   },
   "outputs": [
    {
     "data": {
      "application/vnd.jupyter.widget-view+json": {
       "model_id": "cf33e58bbfb0494bb6a2abc83500087d",
       "version_major": 2,
       "version_minor": 0
      },
      "text/plain": [
       "VBox()"
      ]
     },
     "metadata": {},
     "output_type": "display_data"
    },
    {
     "data": {
      "application/vnd.jupyter.widget-view+json": {
       "model_id": "",
       "version_major": 2,
       "version_minor": 0
      },
      "text/plain": [
       "FloatProgress(value=0.0, bar_style='info', description='Progress:', layout=Layout(height='25px', width='50%'),…"
      ]
     },
     "metadata": {},
     "output_type": "display_data"
    },
    {
     "name": "stdout",
     "output_type": "stream",
     "text": [
      "+-----------------------+\n",
      "|Nombre del grupo étnico|\n",
      "+-----------------------+\n",
      "|        WOUNAAN_WAUNANA|\n",
      "|            POR DEFINIR|\n",
      "|             PIRATAPUYO|\n",
      "|                 YUKUNA|\n",
      "|                 ANDOKE|\n",
      "|                 MATAPI|\n",
      "|                   U'WA|\n",
      "|            DUJOS_TAMAS|\n",
      "|        SIKUANI_GUAHIBO|\n",
      "|                   INGA|\n",
      "|                  PASTO|\n",
      "|               MACAHUAN|\n",
      "|                  PIJAO|\n",
      "|                   null|\n",
      "|                 DESANO|\n",
      "|           MURUI_UITOTO|\n",
      "|              POLINDARA|\n",
      "|           EMBERA CHAMI|\n",
      "|              CURRIPACO|\n",
      "|                  WAYUU|\n",
      "+-----------------------+\n",
      "only showing top 20 rows"
     ]
    }
   ],
   "source": [
    "df.select('Nombre del grupo étnico').distinct().show()"
   ]
  },
  {
   "cell_type": "code",
   "execution_count": 35,
   "id": "cf9a1a75-5303-4011-9afd-35724a4ff33a",
   "metadata": {
    "execution": {
     "iopub.execute_input": "2022-11-20T21:37:48.058785Z",
     "iopub.status.busy": "2022-11-20T21:37:48.058440Z",
     "iopub.status.idle": "2022-11-20T21:37:48.233876Z",
     "shell.execute_reply": "2022-11-20T21:37:48.233183Z",
     "shell.execute_reply.started": "2022-11-20T21:37:48.058752Z"
    },
    "tags": []
   },
   "outputs": [
    {
     "data": {
      "application/vnd.jupyter.widget-view+json": {
       "model_id": "f2a203c6ff914fde9a9cb00569006e02",
       "version_major": 2,
       "version_minor": 0
      },
      "text/plain": [
       "VBox()"
      ]
     },
     "metadata": {},
     "output_type": "display_data"
    },
    {
     "data": {
      "application/vnd.jupyter.widget-view+json": {
       "model_id": "",
       "version_major": 2,
       "version_minor": 0
      },
      "text/plain": [
       "FloatProgress(value=0.0, bar_style='info', description='Progress:', layout=Layout(height='25px', width='50%'),…"
      ]
     },
     "metadata": {},
     "output_type": "display_data"
    }
   ],
   "source": [
    "#target directory \n",
    "write_uri='s3://lauram/proyecto3/spark'"
   ]
  },
  {
   "cell_type": "code",
   "execution_count": 46,
   "id": "084ed3b9-2b48-4558-b945-41737375046e",
   "metadata": {
    "execution": {
     "iopub.execute_input": "2022-11-20T21:47:01.490743Z",
     "iopub.status.busy": "2022-11-20T21:47:01.490389Z",
     "iopub.status.idle": "2022-11-20T21:47:02.160234Z",
     "shell.execute_reply": "2022-11-20T21:47:02.150024Z",
     "shell.execute_reply.started": "2022-11-20T21:47:01.490710Z"
    },
    "tags": []
   },
   "outputs": [
    {
     "data": {
      "application/vnd.jupyter.widget-view+json": {
       "model_id": "ec50bc26da304fca8774eab0ec40a6dd",
       "version_major": 2,
       "version_minor": 0
      },
      "text/plain": [
       "VBox()"
      ]
     },
     "metadata": {},
     "output_type": "display_data"
    },
    {
     "data": {
      "application/vnd.jupyter.widget-view+json": {
       "model_id": "",
       "version_major": 2,
       "version_minor": 0
      },
      "text/plain": [
       "FloatProgress(value=0.0, bar_style='info', description='Progress:', layout=Layout(height='25px', width='50%'),…"
      ]
     },
     "metadata": {},
     "output_type": "display_data"
    },
    {
     "name": "stderr",
     "output_type": "stream",
     "text": [
      "'path s3://lauram/proyecto3/spark already exists.;'\n",
      "Traceback (most recent call last):\n",
      "  File \"/usr/lib/spark/python/lib/pyspark.zip/pyspark/sql/readwriter.py\", line 734, in save\n",
      "    self._jwrite.save(path)\n",
      "  File \"/usr/lib/spark/python/lib/py4j-0.10.7-src.zip/py4j/java_gateway.py\", line 1257, in __call__\n",
      "    answer, self.gateway_client, self.target_id, self.name)\n",
      "  File \"/usr/lib/spark/python/lib/pyspark.zip/pyspark/sql/utils.py\", line 69, in deco\n",
      "    raise AnalysisException(s.split(': ', 1)[1], stackTrace)\n",
      "pyspark.sql.utils.AnalysisException: 'path s3://lauram/proyecto3/spark already exists.;'\n",
      "\n"
     ]
    }
   ],
   "source": [
    "#save the dataframe as single csv \n",
    "df.coalesce(1).write.format(\"csv\").option(\"header\",\"true\").save(write_uri)"
   ]
  },
  {
   "cell_type": "code",
   "execution_count": 75,
   "id": "0c7de81c-15d1-4c49-a3d6-f1c05a4ba4f2",
   "metadata": {
    "execution": {
     "iopub.execute_input": "2022-11-20T22:01:03.132030Z",
     "iopub.status.busy": "2022-11-20T22:01:03.131342Z",
     "iopub.status.idle": "2022-11-20T22:01:03.411082Z",
     "shell.execute_reply": "2022-11-20T22:01:03.409820Z",
     "shell.execute_reply.started": "2022-11-20T22:01:03.131975Z"
    },
    "tags": []
   },
   "outputs": [
    {
     "data": {
      "application/vnd.jupyter.widget-view+json": {
       "model_id": "c9af7e6f8ee146a3b0dd3c80a30a9652",
       "version_major": 2,
       "version_minor": 0
      },
      "text/plain": [
       "VBox()"
      ]
     },
     "metadata": {},
     "output_type": "display_data"
    },
    {
     "data": {
      "application/vnd.jupyter.widget-view+json": {
       "model_id": "",
       "version_major": 2,
       "version_minor": 0
      },
      "text/plain": [
       "FloatProgress(value=0.0, bar_style='info', description='Progress:', layout=Layout(height='25px', width='50%'),…"
      ]
     },
     "metadata": {},
     "output_type": "display_data"
    }
   ],
   "source": [
    "df = df.withColumnRenamed(\"fecha reporte\",\"reporte\";\"fecha reporte\",\"reporte\"))"
   ]
  },
  {
   "cell_type": "code",
   "execution_count": null,
   "id": "ac38dc77-7e1c-4b40-89aa-8e6ea99aada0",
   "metadata": {
    "execution": {
     "iopub.execute_input": "2022-11-20T22:01:40.789228Z",
     "iopub.status.busy": "2022-11-20T22:01:40.788936Z",
     "iopub.status.idle": "2022-11-20T22:01:41.017745Z",
     "shell.execute_reply": "2022-11-20T22:01:41.016293Z",
     "shell.execute_reply.started": "2022-11-20T22:01:40.789202Z"
    }
   },
   "outputs": [
    {
     "data": {
      "application/vnd.jupyter.widget-view+json": {
       "model_id": "",
       "version_major": 2,
       "version_minor": 0
      },
      "text/plain": [
       "VBox()"
      ]
     },
     "metadata": {},
     "output_type": "display_data"
    },
    {
     "data": {
      "application/vnd.jupyter.widget-view+json": {
       "model_id": "",
       "version_major": 2,
       "version_minor": 0
      },
      "text/plain": [
       "FloatProgress(value=0.0, bar_style='info', description='Progress:', layout=Layout(height='25px', width='50%'),…"
      ]
     },
     "metadata": {},
     "output_type": "display_data"
    }
   ],
   "source": [
    "df = df.withColumnRenamed(\"ID de caso\",\"idCaso\")"
   ]
  },
  {
   "cell_type": "code",
   "execution_count": 83,
   "id": "c7f7464b-32e3-450e-be12-265943f512ca",
   "metadata": {
    "execution": {
     "iopub.execute_input": "2022-11-20T22:04:10.352410Z",
     "iopub.status.busy": "2022-11-20T22:04:10.352095Z",
     "iopub.status.idle": "2022-11-20T22:04:10.543984Z",
     "shell.execute_reply": "2022-11-20T22:04:10.540312Z",
     "shell.execute_reply.started": "2022-11-20T22:04:10.352381Z"
    }
   },
   "outputs": [
    {
     "data": {
      "application/vnd.jupyter.widget-view+json": {
       "model_id": "d146f631b83f4584a90d1fa49f0b663e",
       "version_major": 2,
       "version_minor": 0
      },
      "text/plain": [
       "VBox()"
      ]
     },
     "metadata": {},
     "output_type": "display_data"
    },
    {
     "data": {
      "application/vnd.jupyter.widget-view+json": {
       "model_id": "",
       "version_major": 2,
       "version_minor": 0
      },
      "text/plain": [
       "FloatProgress(value=0.0, bar_style='info', description='Progress:', layout=Layout(height='25px', width='50%'),…"
      ]
     },
     "metadata": {},
     "output_type": "display_data"
    }
   ],
   "source": [
    "df = df.withColumnRenamed(\"Fecha de notificación\",\"fecha_notificacion\")"
   ]
  },
  {
   "cell_type": "code",
   "execution_count": 85,
   "id": "d618cc5c-d7a7-4191-8877-52f3beec93a4",
   "metadata": {
    "execution": {
     "iopub.execute_input": "2022-11-20T22:04:45.708899Z",
     "iopub.status.busy": "2022-11-20T22:04:45.708565Z",
     "iopub.status.idle": "2022-11-20T22:04:45.968927Z",
     "shell.execute_reply": "2022-11-20T22:04:45.967223Z",
     "shell.execute_reply.started": "2022-11-20T22:04:45.708868Z"
    }
   },
   "outputs": [
    {
     "data": {
      "application/vnd.jupyter.widget-view+json": {
       "model_id": "059140f7d1924a3ebf030bd680bc0fd8",
       "version_major": 2,
       "version_minor": 0
      },
      "text/plain": [
       "VBox()"
      ]
     },
     "metadata": {},
     "output_type": "display_data"
    },
    {
     "data": {
      "application/vnd.jupyter.widget-view+json": {
       "model_id": "",
       "version_major": 2,
       "version_minor": 0
      },
      "text/plain": [
       "FloatProgress(value=0.0, bar_style='info', description='Progress:', layout=Layout(height='25px', width='50%'),…"
      ]
     },
     "metadata": {},
     "output_type": "display_data"
    }
   ],
   "source": [
    "df = df.withColumnRenamed(\"Código DIVIPOLA departamento\",\"DIVIPOLA_departamento\")"
   ]
  },
  {
   "cell_type": "code",
   "execution_count": 87,
   "id": "e2e468b7-41e2-4589-afdc-74faa85a8abb",
   "metadata": {
    "execution": {
     "iopub.execute_input": "2022-11-20T22:05:14.919263Z",
     "iopub.status.busy": "2022-11-20T22:05:14.918952Z",
     "iopub.status.idle": "2022-11-20T22:05:15.211351Z",
     "shell.execute_reply": "2022-11-20T22:05:15.210330Z",
     "shell.execute_reply.started": "2022-11-20T22:05:14.919234Z"
    }
   },
   "outputs": [
    {
     "data": {
      "application/vnd.jupyter.widget-view+json": {
       "model_id": "d21dde49b69943678353a2c47c166ab9",
       "version_major": 2,
       "version_minor": 0
      },
      "text/plain": [
       "VBox()"
      ]
     },
     "metadata": {},
     "output_type": "display_data"
    },
    {
     "data": {
      "application/vnd.jupyter.widget-view+json": {
       "model_id": "",
       "version_major": 2,
       "version_minor": 0
      },
      "text/plain": [
       "FloatProgress(value=0.0, bar_style='info', description='Progress:', layout=Layout(height='25px', width='50%'),…"
      ]
     },
     "metadata": {},
     "output_type": "display_data"
    }
   ],
   "source": [
    "df = df.withColumnRenamed(\"Nombre departamento\",\"Nombre_departamento\")"
   ]
  },
  {
   "cell_type": "code",
   "execution_count": 89,
   "id": "7909fbb1-d6b1-4b0c-983a-e2cbd73af7a2",
   "metadata": {
    "execution": {
     "iopub.execute_input": "2022-11-20T22:05:44.535223Z",
     "iopub.status.busy": "2022-11-20T22:05:44.534877Z",
     "iopub.status.idle": "2022-11-20T22:05:44.732692Z",
     "shell.execute_reply": "2022-11-20T22:05:44.730696Z",
     "shell.execute_reply.started": "2022-11-20T22:05:44.535193Z"
    }
   },
   "outputs": [
    {
     "data": {
      "application/vnd.jupyter.widget-view+json": {
       "model_id": "dac9cc5891f6463e8ca9a66bf59e92ae",
       "version_major": 2,
       "version_minor": 0
      },
      "text/plain": [
       "VBox()"
      ]
     },
     "metadata": {},
     "output_type": "display_data"
    },
    {
     "data": {
      "application/vnd.jupyter.widget-view+json": {
       "model_id": "",
       "version_major": 2,
       "version_minor": 0
      },
      "text/plain": [
       "FloatProgress(value=0.0, bar_style='info', description='Progress:', layout=Layout(height='25px', width='50%'),…"
      ]
     },
     "metadata": {},
     "output_type": "display_data"
    }
   ],
   "source": [
    "df = df.withColumnRenamed(\"Código DIVIPOLA municipio\",\"DIVIPOLA_municipio\")"
   ]
  },
  {
   "cell_type": "code",
   "execution_count": 91,
   "id": "f37b6e1a-464c-4b61-889b-53bf856be290",
   "metadata": {
    "execution": {
     "iopub.execute_input": "2022-11-20T22:06:09.338667Z",
     "iopub.status.busy": "2022-11-20T22:06:09.338348Z",
     "iopub.status.idle": "2022-11-20T22:06:09.547852Z",
     "shell.execute_reply": "2022-11-20T22:06:09.546762Z",
     "shell.execute_reply.started": "2022-11-20T22:06:09.338640Z"
    }
   },
   "outputs": [
    {
     "data": {
      "application/vnd.jupyter.widget-view+json": {
       "model_id": "bb10b2581e3c40e085f82f2c2daad2d2",
       "version_major": 2,
       "version_minor": 0
      },
      "text/plain": [
       "VBox()"
      ]
     },
     "metadata": {},
     "output_type": "display_data"
    },
    {
     "data": {
      "application/vnd.jupyter.widget-view+json": {
       "model_id": "",
       "version_major": 2,
       "version_minor": 0
      },
      "text/plain": [
       "FloatProgress(value=0.0, bar_style='info', description='Progress:', layout=Layout(height='25px', width='50%'),…"
      ]
     },
     "metadata": {},
     "output_type": "display_data"
    }
   ],
   "source": [
    "df = df.withColumnRenamed(\"Nombre municipio\",\"Nombre_municipio\")"
   ]
  },
  {
   "cell_type": "code",
   "execution_count": 93,
   "id": "6524c110-b130-4321-a6c2-0befb6da6dc0",
   "metadata": {
    "execution": {
     "iopub.execute_input": "2022-11-20T22:06:48.868166Z",
     "iopub.status.busy": "2022-11-20T22:06:48.867679Z",
     "iopub.status.idle": "2022-11-20T22:06:49.120571Z",
     "shell.execute_reply": "2022-11-20T22:06:49.119930Z",
     "shell.execute_reply.started": "2022-11-20T22:06:48.868131Z"
    }
   },
   "outputs": [
    {
     "data": {
      "application/vnd.jupyter.widget-view+json": {
       "model_id": "a3b9b0a393134b0d89f86e4711e6d29a",
       "version_major": 2,
       "version_minor": 0
      },
      "text/plain": [
       "VBox()"
      ]
     },
     "metadata": {},
     "output_type": "display_data"
    },
    {
     "data": {
      "application/vnd.jupyter.widget-view+json": {
       "model_id": "",
       "version_major": 2,
       "version_minor": 0
      },
      "text/plain": [
       "FloatProgress(value=0.0, bar_style='info', description='Progress:', layout=Layout(height='25px', width='50%'),…"
      ]
     },
     "metadata": {},
     "output_type": "display_data"
    }
   ],
   "source": [
    "df = df.withColumnRenamed(\"Unidad de medida de edad\",\"medidada_edad\")"
   ]
  },
  {
   "cell_type": "code",
   "execution_count": 95,
   "id": "375e61b5-625d-4b47-b354-874c9381db1e",
   "metadata": {
    "execution": {
     "iopub.execute_input": "2022-11-20T22:07:23.086506Z",
     "iopub.status.busy": "2022-11-20T22:07:23.086120Z",
     "iopub.status.idle": "2022-11-20T22:07:23.596611Z",
     "shell.execute_reply": "2022-11-20T22:07:23.518333Z",
     "shell.execute_reply.started": "2022-11-20T22:07:23.086459Z"
    }
   },
   "outputs": [
    {
     "data": {
      "application/vnd.jupyter.widget-view+json": {
       "model_id": "b50520ef6c4d42d388beabe19f25c2f4",
       "version_major": 2,
       "version_minor": 0
      },
      "text/plain": [
       "VBox()"
      ]
     },
     "metadata": {},
     "output_type": "display_data"
    },
    {
     "data": {
      "application/vnd.jupyter.widget-view+json": {
       "model_id": "",
       "version_major": 2,
       "version_minor": 0
      },
      "text/plain": [
       "FloatProgress(value=0.0, bar_style='info', description='Progress:', layout=Layout(height='25px', width='50%'),…"
      ]
     },
     "metadata": {},
     "output_type": "display_data"
    }
   ],
   "source": [
    "df = df.withColumnRenamed(\"Tipo de contagio\",\"tipo_contagio\")"
   ]
  },
  {
   "cell_type": "code",
   "execution_count": 99,
   "id": "316b51ea-f5d3-4ef8-80f1-6233bcf8a8c5",
   "metadata": {
    "execution": {
     "iopub.execute_input": "2022-11-20T22:08:16.471165Z",
     "iopub.status.busy": "2022-11-20T22:08:16.470867Z",
     "iopub.status.idle": "2022-11-20T22:08:16.720744Z",
     "shell.execute_reply": "2022-11-20T22:08:16.715577Z",
     "shell.execute_reply.started": "2022-11-20T22:08:16.471138Z"
    },
    "tags": []
   },
   "outputs": [
    {
     "data": {
      "application/vnd.jupyter.widget-view+json": {
       "model_id": "33f54dfe819043d38abc9e982e90ea65",
       "version_major": 2,
       "version_minor": 0
      },
      "text/plain": [
       "VBox()"
      ]
     },
     "metadata": {},
     "output_type": "display_data"
    },
    {
     "data": {
      "application/vnd.jupyter.widget-view+json": {
       "model_id": "",
       "version_major": 2,
       "version_minor": 0
      },
      "text/plain": [
       "FloatProgress(value=0.0, bar_style='info', description='Progress:', layout=Layout(height='25px', width='50%'),…"
      ]
     },
     "metadata": {},
     "output_type": "display_data"
    }
   ],
   "source": [
    "df = df.withColumnRenamed(\"Ubicación del caso\",\"ubicacion_caso\")"
   ]
  },
  {
   "cell_type": "code",
   "execution_count": 101,
   "id": "dc4336de-eb7e-4e15-b164-99d5bc896a6c",
   "metadata": {
    "execution": {
     "iopub.execute_input": "2022-11-20T22:08:44.817750Z",
     "iopub.status.busy": "2022-11-20T22:08:44.817314Z",
     "iopub.status.idle": "2022-11-20T22:08:45.048267Z",
     "shell.execute_reply": "2022-11-20T22:08:45.047592Z",
     "shell.execute_reply.started": "2022-11-20T22:08:44.817704Z"
    }
   },
   "outputs": [
    {
     "data": {
      "application/vnd.jupyter.widget-view+json": {
       "model_id": "9f400710e08045c7a1d1b165223ca6de",
       "version_major": 2,
       "version_minor": 0
      },
      "text/plain": [
       "VBox()"
      ]
     },
     "metadata": {},
     "output_type": "display_data"
    },
    {
     "data": {
      "application/vnd.jupyter.widget-view+json": {
       "model_id": "",
       "version_major": 2,
       "version_minor": 0
      },
      "text/plain": [
       "FloatProgress(value=0.0, bar_style='info', description='Progress:', layout=Layout(height='25px', width='50%'),…"
      ]
     },
     "metadata": {},
     "output_type": "display_data"
    }
   ],
   "source": [
    "df = df.withColumnRenamed(\"Código ISO del país\",\"codigo_pais\")"
   ]
  },
  {
   "cell_type": "code",
   "execution_count": 103,
   "id": "d83be660-901f-439d-b2d7-d4fc3dde5760",
   "metadata": {
    "execution": {
     "iopub.execute_input": "2022-11-20T22:09:10.423380Z",
     "iopub.status.busy": "2022-11-20T22:09:10.423011Z",
     "iopub.status.idle": "2022-11-20T22:09:10.626302Z",
     "shell.execute_reply": "2022-11-20T22:09:10.625199Z",
     "shell.execute_reply.started": "2022-11-20T22:09:10.423344Z"
    }
   },
   "outputs": [
    {
     "data": {
      "application/vnd.jupyter.widget-view+json": {
       "model_id": "de9d70db21d5404e9e9dac253bc454a5",
       "version_major": 2,
       "version_minor": 0
      },
      "text/plain": [
       "VBox()"
      ]
     },
     "metadata": {},
     "output_type": "display_data"
    },
    {
     "data": {
      "application/vnd.jupyter.widget-view+json": {
       "model_id": "",
       "version_major": 2,
       "version_minor": 0
      },
      "text/plain": [
       "FloatProgress(value=0.0, bar_style='info', description='Progress:', layout=Layout(height='25px', width='50%'),…"
      ]
     },
     "metadata": {},
     "output_type": "display_data"
    }
   ],
   "source": [
    "df = df.withColumnRenamed(\"Nombre del país\",\"pais\")"
   ]
  },
  {
   "cell_type": "code",
   "execution_count": 105,
   "id": "b272edae-6145-4501-9994-f166ec451db7",
   "metadata": {
    "execution": {
     "iopub.execute_input": "2022-11-20T22:09:43.358469Z",
     "iopub.status.busy": "2022-11-20T22:09:43.358149Z",
     "iopub.status.idle": "2022-11-20T22:09:43.522336Z",
     "shell.execute_reply": "2022-11-20T22:09:43.521682Z",
     "shell.execute_reply.started": "2022-11-20T22:09:43.358437Z"
    }
   },
   "outputs": [
    {
     "data": {
      "application/vnd.jupyter.widget-view+json": {
       "model_id": "8ec5d8ccb15645f6b9d2f973eb992fbd",
       "version_major": 2,
       "version_minor": 0
      },
      "text/plain": [
       "VBox()"
      ]
     },
     "metadata": {},
     "output_type": "display_data"
    },
    {
     "data": {
      "application/vnd.jupyter.widget-view+json": {
       "model_id": "",
       "version_major": 2,
       "version_minor": 0
      },
      "text/plain": [
       "FloatProgress(value=0.0, bar_style='info', description='Progress:', layout=Layout(height='25px', width='50%'),…"
      ]
     },
     "metadata": {},
     "output_type": "display_data"
    }
   ],
   "source": [
    "df = df.withColumnRenamed(\"Fecha de inicio de síntomas\",\"inicio_sintomas\")"
   ]
  },
  {
   "cell_type": "code",
   "execution_count": 107,
   "id": "14b7cf4a-3295-4948-b51f-027d8d483794",
   "metadata": {
    "execution": {
     "iopub.execute_input": "2022-11-20T22:10:14.417087Z",
     "iopub.status.busy": "2022-11-20T22:10:14.416779Z",
     "iopub.status.idle": "2022-11-20T22:10:14.630773Z",
     "shell.execute_reply": "2022-11-20T22:10:14.629367Z",
     "shell.execute_reply.started": "2022-11-20T22:10:14.417060Z"
    }
   },
   "outputs": [
    {
     "data": {
      "application/vnd.jupyter.widget-view+json": {
       "model_id": "9e3139e181c447ba83988be9d4aaeeea",
       "version_major": 2,
       "version_minor": 0
      },
      "text/plain": [
       "VBox()"
      ]
     },
     "metadata": {},
     "output_type": "display_data"
    },
    {
     "data": {
      "application/vnd.jupyter.widget-view+json": {
       "model_id": "",
       "version_major": 2,
       "version_minor": 0
      },
      "text/plain": [
       "FloatProgress(value=0.0, bar_style='info', description='Progress:', layout=Layout(height='25px', width='50%'),…"
      ]
     },
     "metadata": {},
     "output_type": "display_data"
    }
   ],
   "source": [
    "df = df.withColumnRenamed(\"Fecha de muerte\",\"fecha_muerte\")"
   ]
  },
  {
   "cell_type": "code",
   "execution_count": 109,
   "id": "24f7ea2b-0660-4f9b-84ab-c4711ec79b20",
   "metadata": {
    "execution": {
     "iopub.execute_input": "2022-11-20T22:10:44.927843Z",
     "iopub.status.busy": "2022-11-20T22:10:44.927446Z",
     "iopub.status.idle": "2022-11-20T22:10:45.132069Z",
     "shell.execute_reply": "2022-11-20T22:10:45.131054Z",
     "shell.execute_reply.started": "2022-11-20T22:10:44.927806Z"
    }
   },
   "outputs": [
    {
     "data": {
      "application/vnd.jupyter.widget-view+json": {
       "model_id": "aac11b02ded04fb69171935e626672f5",
       "version_major": 2,
       "version_minor": 0
      },
      "text/plain": [
       "VBox()"
      ]
     },
     "metadata": {},
     "output_type": "display_data"
    },
    {
     "data": {
      "application/vnd.jupyter.widget-view+json": {
       "model_id": "",
       "version_major": 2,
       "version_minor": 0
      },
      "text/plain": [
       "FloatProgress(value=0.0, bar_style='info', description='Progress:', layout=Layout(height='25px', width='50%'),…"
      ]
     },
     "metadata": {},
     "output_type": "display_data"
    }
   ],
   "source": [
    "df = df.withColumnRenamed(\"Fecha de diagnóstico\",\"fecha_diagnostico\")"
   ]
  },
  {
   "cell_type": "code",
   "execution_count": 111,
   "id": "19063884-bcc5-4f9d-97bd-f15a83abacec",
   "metadata": {
    "execution": {
     "iopub.execute_input": "2022-11-20T22:11:16.750829Z",
     "iopub.status.busy": "2022-11-20T22:11:16.750527Z",
     "iopub.status.idle": "2022-11-20T22:11:16.924488Z",
     "shell.execute_reply": "2022-11-20T22:11:16.923858Z",
     "shell.execute_reply.started": "2022-11-20T22:11:16.750803Z"
    }
   },
   "outputs": [
    {
     "data": {
      "application/vnd.jupyter.widget-view+json": {
       "model_id": "f8be7e65826d4d518742b8ad4b173329",
       "version_major": 2,
       "version_minor": 0
      },
      "text/plain": [
       "VBox()"
      ]
     },
     "metadata": {},
     "output_type": "display_data"
    },
    {
     "data": {
      "application/vnd.jupyter.widget-view+json": {
       "model_id": "",
       "version_major": 2,
       "version_minor": 0
      },
      "text/plain": [
       "FloatProgress(value=0.0, bar_style='info', description='Progress:', layout=Layout(height='25px', width='50%'),…"
      ]
     },
     "metadata": {},
     "output_type": "display_data"
    }
   ],
   "source": [
    "df = df.withColumnRenamed(\"Fecha de recuperación\",\"recuperacion\")"
   ]
  },
  {
   "cell_type": "code",
   "execution_count": 113,
   "id": "49b3c2b1-4765-4c4a-8b36-33fc4b9d7709",
   "metadata": {
    "execution": {
     "iopub.execute_input": "2022-11-20T22:11:46.414563Z",
     "iopub.status.busy": "2022-11-20T22:11:46.414258Z",
     "iopub.status.idle": "2022-11-20T22:11:46.644769Z",
     "shell.execute_reply": "2022-11-20T22:11:46.643855Z",
     "shell.execute_reply.started": "2022-11-20T22:11:46.414535Z"
    }
   },
   "outputs": [
    {
     "data": {
      "application/vnd.jupyter.widget-view+json": {
       "model_id": "1f3322e7dddc478f832f36d44af1f323",
       "version_major": 2,
       "version_minor": 0
      },
      "text/plain": [
       "VBox()"
      ]
     },
     "metadata": {},
     "output_type": "display_data"
    },
    {
     "data": {
      "application/vnd.jupyter.widget-view+json": {
       "model_id": "",
       "version_major": 2,
       "version_minor": 0
      },
      "text/plain": [
       "FloatProgress(value=0.0, bar_style='info', description='Progress:', layout=Layout(height='25px', width='50%'),…"
      ]
     },
     "metadata": {},
     "output_type": "display_data"
    }
   ],
   "source": [
    "df = df.withColumnRenamed(\"Tipo de recuperación\",\"tipo_recuperacion\")"
   ]
  },
  {
   "cell_type": "code",
   "execution_count": 115,
   "id": "72ec496d-4390-470e-8829-fdea5b9da6a4",
   "metadata": {
    "execution": {
     "iopub.execute_input": "2022-11-20T22:12:17.371911Z",
     "iopub.status.busy": "2022-11-20T22:12:17.371587Z",
     "iopub.status.idle": "2022-11-20T22:12:17.600620Z",
     "shell.execute_reply": "2022-11-20T22:12:17.599901Z",
     "shell.execute_reply.started": "2022-11-20T22:12:17.371881Z"
    }
   },
   "outputs": [
    {
     "data": {
      "application/vnd.jupyter.widget-view+json": {
       "model_id": "087d9e2647604db1b2485d9fe7e761b5",
       "version_major": 2,
       "version_minor": 0
      },
      "text/plain": [
       "VBox()"
      ]
     },
     "metadata": {},
     "output_type": "display_data"
    },
    {
     "data": {
      "application/vnd.jupyter.widget-view+json": {
       "model_id": "",
       "version_major": 2,
       "version_minor": 0
      },
      "text/plain": [
       "FloatProgress(value=0.0, bar_style='info', description='Progress:', layout=Layout(height='25px', width='50%'),…"
      ]
     },
     "metadata": {},
     "output_type": "display_data"
    }
   ],
   "source": [
    "df = df.withColumnRenamed(\"Pertenencia étnica\",\"etnica\")"
   ]
  },
  {
   "cell_type": "code",
   "execution_count": 117,
   "id": "5e4caec8-94ff-4b20-a04a-0a1e7d44bbd3",
   "metadata": {
    "execution": {
     "iopub.execute_input": "2022-11-20T22:12:48.565350Z",
     "iopub.status.busy": "2022-11-20T22:12:48.564924Z",
     "iopub.status.idle": "2022-11-20T22:12:48.761454Z",
     "shell.execute_reply": "2022-11-20T22:12:48.760550Z",
     "shell.execute_reply.started": "2022-11-20T22:12:48.565315Z"
    }
   },
   "outputs": [
    {
     "data": {
      "application/vnd.jupyter.widget-view+json": {
       "model_id": "c8d730eb6b42490b923647578572b3d9",
       "version_major": 2,
       "version_minor": 0
      },
      "text/plain": [
       "VBox()"
      ]
     },
     "metadata": {},
     "output_type": "display_data"
    },
    {
     "data": {
      "application/vnd.jupyter.widget-view+json": {
       "model_id": "",
       "version_major": 2,
       "version_minor": 0
      },
      "text/plain": [
       "FloatProgress(value=0.0, bar_style='info', description='Progress:', layout=Layout(height='25px', width='50%'),…"
      ]
     },
     "metadata": {},
     "output_type": "display_data"
    }
   ],
   "source": [
    "df = df.withColumnRenamed(\"Nombre del grupo étnico\",\"grupo_etnico\")"
   ]
  },
  {
   "cell_type": "code",
   "execution_count": 73,
   "id": "8c956aa3-3385-40b4-9a68-3209422bb368",
   "metadata": {
    "execution": {
     "iopub.execute_input": "2022-11-20T22:00:48.808560Z",
     "iopub.status.busy": "2022-11-20T22:00:48.808221Z",
     "iopub.status.idle": "2022-11-20T22:00:49.022098Z",
     "shell.execute_reply": "2022-11-20T22:00:49.021372Z",
     "shell.execute_reply.started": "2022-11-20T22:00:48.808527Z"
    },
    "tags": []
   },
   "outputs": [
    {
     "data": {
      "application/vnd.jupyter.widget-view+json": {
       "model_id": "993d756c4ea54e128e35a25a3e3dd13c",
       "version_major": 2,
       "version_minor": 0
      },
      "text/plain": [
       "VBox()"
      ]
     },
     "metadata": {},
     "output_type": "display_data"
    },
    {
     "data": {
      "application/vnd.jupyter.widget-view+json": {
       "model_id": "",
       "version_major": 2,
       "version_minor": 0
      },
      "text/plain": [
       "FloatProgress(value=0.0, bar_style='info', description='Progress:', layout=Layout(height='25px', width='50%'),…"
      ]
     },
     "metadata": {},
     "output_type": "display_data"
    }
   ],
   "source": [
    "#target location\n",
    "parquet_uri='s3://lauram/proyecto3/spark/paquete'"
   ]
  },
  {
   "cell_type": "code",
   "execution_count": 118,
   "id": "c987cced-09da-4f81-bed0-d3ccd2fe2969",
   "metadata": {
    "execution": {
     "iopub.execute_input": "2022-11-20T22:12:51.060996Z",
     "iopub.status.busy": "2022-11-20T22:12:51.060316Z",
     "iopub.status.idle": "2022-11-20T22:13:05.080015Z",
     "shell.execute_reply": "2022-11-20T22:13:05.078111Z",
     "shell.execute_reply.started": "2022-11-20T22:12:51.060908Z"
    },
    "tags": []
   },
   "outputs": [
    {
     "data": {
      "application/vnd.jupyter.widget-view+json": {
       "model_id": "2532b089b11a46f9866d42000d9872c7",
       "version_major": 2,
       "version_minor": 0
      },
      "text/plain": [
       "VBox()"
      ]
     },
     "metadata": {},
     "output_type": "display_data"
    },
    {
     "data": {
      "application/vnd.jupyter.widget-view+json": {
       "model_id": "",
       "version_major": 2,
       "version_minor": 0
      },
      "text/plain": [
       "FloatProgress(value=0.0, bar_style='info', description='Progress:', layout=Layout(height='25px', width='50%'),…"
      ]
     },
     "metadata": {},
     "output_type": "display_data"
    }
   ],
   "source": [
    "#save the data into parquet format \n",
    "df.write.format('parquet').save(parquet_uri)"
   ]
  },
  {
   "cell_type": "code",
   "execution_count": 70,
   "id": "72b39821-2ff6-4f71-bca6-159416923f85",
   "metadata": {
    "execution": {
     "iopub.execute_input": "2022-11-20T22:00:08.434893Z",
     "iopub.status.busy": "2022-11-20T22:00:08.434466Z",
     "iopub.status.idle": "2022-11-20T22:00:08.644894Z",
     "shell.execute_reply": "2022-11-20T22:00:08.640854Z",
     "shell.execute_reply.started": "2022-11-20T22:00:08.434854Z"
    },
    "tags": []
   },
   "outputs": [
    {
     "data": {
      "application/vnd.jupyter.widget-view+json": {
       "model_id": "0c51d31d85584d5e978cb5958ed2f66a",
       "version_major": 2,
       "version_minor": 0
      },
      "text/plain": [
       "VBox()"
      ]
     },
     "metadata": {},
     "output_type": "display_data"
    },
    {
     "data": {
      "application/vnd.jupyter.widget-view+json": {
       "model_id": "",
       "version_major": 2,
       "version_minor": 0
      },
      "text/plain": [
       "FloatProgress(value=0.0, bar_style='info', description='Progress:', layout=Layout(height='25px', width='50%'),…"
      ]
     },
     "metadata": {},
     "output_type": "display_data"
    }
   ],
   "source": []
  },
  {
   "cell_type": "code",
   "execution_count": null,
   "id": "e25601be-bb1a-496c-8d8a-17bf821d0120",
   "metadata": {},
   "outputs": [],
   "source": []
  }
 ],
 "metadata": {
  "kernelspec": {
   "display_name": "PySpark",
   "language": "",
   "name": "pysparkkernel"
  },
  "language_info": {
   "codemirror_mode": {
    "name": "python",
    "version": 2
   },
   "mimetype": "text/x-python",
   "name": "pyspark",
   "pygments_lexer": "python2"
  }
 },
 "nbformat": 4,
 "nbformat_minor": 5
}
